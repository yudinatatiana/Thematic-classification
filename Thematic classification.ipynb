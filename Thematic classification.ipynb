{
 "cells": [
  {
   "cell_type": "markdown",
   "metadata": {
    "colab_type": "text",
    "id": "E7ME-ag0hoDA"
   },
   "source": [
    "# Данные"
   ]
  },
  {
   "cell_type": "code",
   "execution_count": 2,
   "metadata": {
    "colab": {
     "base_uri": "https://localhost:8080/",
     "height": 393
    },
    "colab_type": "code",
    "id": "eVLBU4s9fF-q",
    "outputId": "aa93553c-d876-411a-af2e-2d0874c26082"
   },
   "outputs": [
    {
     "name": "stdout",
     "output_type": "stream",
     "text": [
      "--2019-06-10 05:00:01--  https://www.dropbox.com/s/nd7v1fod89xla6j/vk_texts_with_sources.csv\n",
      "Resolving www.dropbox.com (www.dropbox.com)... 162.125.1.1, 2620:100:601b:1::a27d:801\n",
      "Connecting to www.dropbox.com (www.dropbox.com)|162.125.1.1|:443... connected.\n",
      "HTTP request sent, awaiting response... 301 Moved Permanently\n",
      "Location: /s/raw/nd7v1fod89xla6j/vk_texts_with_sources.csv [following]\n",
      "--2019-06-10 05:00:01--  https://www.dropbox.com/s/raw/nd7v1fod89xla6j/vk_texts_with_sources.csv\n",
      "Reusing existing connection to www.dropbox.com:443.\n",
      "HTTP request sent, awaiting response... 302 Found\n",
      "Location: https://uc7be400eaef36679313fcea9bf3.dl.dropboxusercontent.com/cd/0/inline/AijbWpIq5t9MOEr0xXPiaRzB9LTHgqh034tXGu8TSthVp5sH4TlM9iM-_lg0JoWuJ8uVyFLL7sAYgwwNhWQUvGvGURukrznF-kOx7dLm13qfRw/file# [following]\n",
      "--2019-06-10 05:00:01--  https://uc7be400eaef36679313fcea9bf3.dl.dropboxusercontent.com/cd/0/inline/AijbWpIq5t9MOEr0xXPiaRzB9LTHgqh034tXGu8TSthVp5sH4TlM9iM-_lg0JoWuJ8uVyFLL7sAYgwwNhWQUvGvGURukrznF-kOx7dLm13qfRw/file\n",
      "Resolving uc7be400eaef36679313fcea9bf3.dl.dropboxusercontent.com (uc7be400eaef36679313fcea9bf3.dl.dropboxusercontent.com)... 162.125.1.6, 2620:100:601b:6::a27d:806\n",
      "Connecting to uc7be400eaef36679313fcea9bf3.dl.dropboxusercontent.com (uc7be400eaef36679313fcea9bf3.dl.dropboxusercontent.com)|162.125.1.6|:443... connected.\n",
      "HTTP request sent, awaiting response... 200 OK\n",
      "Length: 14406837 (14M) [text/plain]\n",
      "Saving to: ‘vk_texts_with_sources.csv’\n",
      "\n",
      "vk_texts_with_sourc 100%[===================>]  13.74M  --.-KB/s    in 0.1s    \n",
      "\n",
      "2019-06-10 05:00:02 (102 MB/s) - ‘vk_texts_with_sources.csv’ saved [14406837/14406837]\n",
      "\n"
     ]
    }
   ],
   "source": [
    "!wget https://www.dropbox.com/s/nd7v1fod89xla6j/vk_texts_with_sources.csv"
   ]
  },
  {
   "cell_type": "code",
   "execution_count": 1,
   "metadata": {
    "colab": {
     "base_uri": "https://localhost:8080/",
     "height": 206
    },
    "colab_type": "code",
    "id": "qxZMU8CBK664",
    "outputId": "36fb72fd-ab31-4d0c-dda3-d5d7c47bb436"
   },
   "outputs": [
    {
     "data": {
      "text/html": [
       "<div>\n",
       "<style scoped>\n",
       "    .dataframe tbody tr th:only-of-type {\n",
       "        vertical-align: middle;\n",
       "    }\n",
       "\n",
       "    .dataframe tbody tr th {\n",
       "        vertical-align: top;\n",
       "    }\n",
       "\n",
       "    .dataframe thead th {\n",
       "        text-align: right;\n",
       "    }\n",
       "</style>\n",
       "<table border=\"1\" class=\"dataframe\">\n",
       "  <thead>\n",
       "    <tr style=\"text-align: right;\">\n",
       "      <th></th>\n",
       "      <th>text</th>\n",
       "      <th>source</th>\n",
       "    </tr>\n",
       "  </thead>\n",
       "  <tbody>\n",
       "    <tr>\n",
       "      <th>0</th>\n",
       "      <td>Начальник Главного оперативного управления Ген...</td>\n",
       "      <td>mil</td>\n",
       "    </tr>\n",
       "    <tr>\n",
       "      <th>1</th>\n",
       "      <td>Артиллерийские подразделения общевойскового об...</td>\n",
       "      <td>mil</td>\n",
       "    </tr>\n",
       "    <tr>\n",
       "      <th>2</th>\n",
       "      <td>Подразделения морской пехоты Каспийской флотил...</td>\n",
       "      <td>mil</td>\n",
       "    </tr>\n",
       "    <tr>\n",
       "      <th>3</th>\n",
       "      <td>Команды на всеармейских этапах конкурсов АрМИ-...</td>\n",
       "      <td>mil</td>\n",
       "    </tr>\n",
       "    <tr>\n",
       "      <th>4</th>\n",
       "      <td>На большом учебно-методическом командирском сб...</td>\n",
       "      <td>mil</td>\n",
       "    </tr>\n",
       "  </tbody>\n",
       "</table>\n",
       "</div>"
      ],
      "text/plain": [
       "                                                text source\n",
       "0  Начальник Главного оперативного управления Ген...    mil\n",
       "1  Артиллерийские подразделения общевойскового об...    mil\n",
       "2  Подразделения морской пехоты Каспийской флотил...    mil\n",
       "3  Команды на всеармейских этапах конкурсов АрМИ-...    mil\n",
       "4  На большом учебно-методическом командирском сб...    mil"
      ]
     },
     "execution_count": 1,
     "metadata": {},
     "output_type": "execute_result"
    }
   ],
   "source": [
    "import pandas as pd\n",
    "df = pd.read_csv('vk_texts_with_sources.csv', usecols = ['text', 'source'])\n",
    "df.head()"
   ]
  },
  {
   "cell_type": "markdown",
   "metadata": {
    "colab_type": "text",
    "id": "dYNCAr17MFA3"
   },
   "source": [
    "# Задача\n",
    "\n",
    "Решение задачи тематической классификации. Даны тексты, опубликованные в нескольких пабликах VK.com, посвященных государственным и муниципальным службам. Формально задача заключается в том, чтобы по тексту ($d$) определить в каком паблике он опубликован, то есть, к какому классу $c$ он принадлежит. "
   ]
  },
  {
   "cell_type": "markdown",
   "metadata": {
    "colab_type": "text",
    "id": "e2EnN-U7MemU"
   },
   "source": [
    "## Описательные статистики\n",
    "\n",
    "Необходимо подсчитать:\n",
    "* количество текстов и количество классов\n",
    "* количество слов (без лемматизации и с лемматизацией) в коллекции\n",
    "* среднюю длину текста в словах и символах\n",
    "* найти 5 самых частых существительных в текстах каждого паблика "
   ]
  },
  {
   "cell_type": "markdown",
   "metadata": {
    "colab_type": "text",
    "id": "GO-aRwp_wRLe"
   },
   "source": [
    "### Подключение библиотек"
   ]
  },
  {
   "cell_type": "code",
   "execution_count": 2,
   "metadata": {
    "colab": {},
    "colab_type": "code",
    "id": "zCDHohqVwRLh"
   },
   "outputs": [],
   "source": [
    "import re\n",
    "import nltk\n",
    "from pymorphy2 import MorphAnalyzer\n",
    "import numpy as np\n",
    "import collections\n",
    "from sklearn import preprocessing\n",
    "from sklearn.model_selection import train_test_split"
   ]
  },
  {
   "cell_type": "markdown",
   "metadata": {
    "colab_type": "text",
    "id": "Y-5h-vsgwRLp"
   },
   "source": [
    "###  Предобработка данных\n",
    "\n",
    "Если посмотреть на текст, можно заметить, что некоторые html-тэги стоят вплотную к словам и, следовательно, будут мешать правильному подсчету слов и решению дальнейших задач. Также в текстах встречаются ссылки и хэштэги. Перед началом выполнения задач я предобработаю текст, удалив html-тэги и ссылки. Хэштэги оставлю, они могут улучшить качество классификации. Также необходимо удалить строки, содержащие пустые значения. "
   ]
  },
  {
   "cell_type": "code",
   "execution_count": 3,
   "metadata": {
    "colab": {
     "base_uri": "https://localhost:8080/",
     "height": 55
    },
    "colab_type": "code",
    "id": "ksMGp8vAwRLt",
    "outputId": "1fa884fd-7a6e-421d-8115-0c441d2f7201"
   },
   "outputs": [
    {
     "data": {
      "text/plain": [
       "'Военнослужащие–женщины на бронеавтомобилях продемонстрируют автошоу на открытии всеармейского этапа конкурса АрМИ «Мастера автобронетанковой техники-2018», который состоится 26 и 27 мая в городе Острогожске в Воронежской области <br><br>В этом году в конкурсе принимают участие 13 команд военных автомобилистов и специалистов автобронетанковой службы военных округов и флотов, РВСН, ВДВ и ВВС, а также Центра контраварийной подготовки ВС РФ, Острогожского учебного центра по подготовке младших специалистов автобронетанковой службы и 147-й автомобильной базы Минобороны России. <br><br>В преддверии Дня военного автомобилиста для гостей и жителей города приготовлена программа выступления водителей бронеавтомобилей «Тигр», КамАЗ-5350 и УАЗ–3151. <br><br>Ссылка на сайт Армейских международных игр-2018: http://armygames2018.mil.ru/ <br><br>#Минобороны #АрМИ2018 #МастераАвтобронетанковойТехники'"
      ]
     },
     "execution_count": 3,
     "metadata": {},
     "output_type": "execute_result"
    }
   ],
   "source": [
    "#Просмотр части данных\n",
    "df['text'][6]"
   ]
  },
  {
   "cell_type": "code",
   "execution_count": 4,
   "metadata": {
    "colab": {},
    "colab_type": "code",
    "id": "foT163_IwRL8"
   },
   "outputs": [],
   "source": [
    "#Удаление строк, содержащих пустые значения \n",
    "df = df.dropna()"
   ]
  },
  {
   "cell_type": "code",
   "execution_count": 5,
   "metadata": {
    "colab": {},
    "colab_type": "code",
    "id": "pJSxhiYrwRMH"
   },
   "outputs": [],
   "source": [
    "length = df.shape[0]\n",
    "\n",
    "for i in range(length):\n",
    "    df.iloc[i, 0] = re.sub('<.*?>', '', df.iloc[i, 0])\n",
    "\n",
    "for i in range(length):\n",
    "    df.iloc[i, 0] = re.sub('http?:\\/\\/.*[\\r\\n]*\\/', '', df.iloc[i, 0])"
   ]
  },
  {
   "cell_type": "code",
   "execution_count": 6,
   "metadata": {
    "colab": {
     "base_uri": "https://localhost:8080/",
     "height": 55
    },
    "colab_type": "code",
    "id": "ELXRFxeYwRMW",
    "outputId": "57736fb0-2334-4adb-e60d-0ddc0e948705"
   },
   "outputs": [
    {
     "data": {
      "text/plain": [
       "'Военнослужащие–женщины на бронеавтомобилях продемонстрируют автошоу на открытии всеармейского этапа конкурса АрМИ «Мастера автобронетанковой техники-2018», который состоится 26 и 27 мая в городе Острогожске в Воронежской области В этом году в конкурсе принимают участие 13 команд военных автомобилистов и специалистов автобронетанковой службы военных округов и флотов, РВСН, ВДВ и ВВС, а также Центра контраварийной подготовки ВС РФ, Острогожского учебного центра по подготовке младших специалистов автобронетанковой службы и 147-й автомобильной базы Минобороны России. В преддверии Дня военного автомобилиста для гостей и жителей города приготовлена программа выступления водителей бронеавтомобилей «Тигр», КамАЗ-5350 и УАЗ–3151. Ссылка на сайт Армейских международных игр-2018:  #Минобороны #АрМИ2018 #МастераАвтобронетанковойТехники'"
      ]
     },
     "execution_count": 6,
     "metadata": {},
     "output_type": "execute_result"
    }
   ],
   "source": [
    "df['text'][6]"
   ]
  },
  {
   "cell_type": "markdown",
   "metadata": {
    "colab_type": "text",
    "id": "L5mL21XywRMs"
   },
   "source": [
    "### Подсчет количества текстов и классов"
   ]
  },
  {
   "cell_type": "code",
   "execution_count": 0,
   "metadata": {
    "colab": {},
    "colab_type": "code",
    "id": "aKDNufONwRMv",
    "outputId": "8348f46a-55bf-49f2-8cb4-3c2b3ef8aa50"
   },
   "outputs": [
    {
     "name": "stdout",
     "output_type": "stream",
     "text": [
      "Количество текстов в коллекции -  11526\n",
      "Количество классов в коллекции -  4\n"
     ]
    }
   ],
   "source": [
    "print('Количество текстов в коллекции - ', df.shape[0])\n",
    "print('Количество классов в коллекции - ', len(set(df.source.tolist())))"
   ]
  },
  {
   "cell_type": "markdown",
   "metadata": {
    "colab_type": "text",
    "id": "mmVWvrS-wRM5"
   },
   "source": [
    "### Подсчет количества слов в коллекции"
   ]
  },
  {
   "cell_type": "markdown",
   "metadata": {
    "colab_type": "text",
    "id": "gH70mqJ-wRM8"
   },
   "source": [
    "#### Без лемматизации"
   ]
  },
  {
   "cell_type": "code",
   "execution_count": 0,
   "metadata": {
    "colab": {},
    "colab_type": "code",
    "id": "YdUj9jwYwRM_",
    "outputId": "bb35c3bd-6fdb-4789-b314-2ab19f3188bd"
   },
   "outputs": [
    {
     "name": "stdout",
     "output_type": "stream",
     "text": [
      "Количество уникальных слов в коллекции до лемматизации -  98410\n"
     ]
    }
   ],
   "source": [
    "number_of_words = set()\n",
    "for i in df.text.tolist():\n",
    "    number_of_words.update(nltk.word_tokenize(str(i)))\n",
    "        \n",
    "print('Количество уникальных слов в коллекции до лемматизации - ', len(number_of_words))"
   ]
  },
  {
   "cell_type": "markdown",
   "metadata": {
    "colab_type": "text",
    "id": "oo5a5x2kwRNM"
   },
   "source": [
    "#### С лемматизацией"
   ]
  },
  {
   "cell_type": "code",
   "execution_count": 0,
   "metadata": {
    "colab": {},
    "colab_type": "code",
    "id": "I7nifVoGwRNP",
    "outputId": "04ec43d6-63c5-4511-a57d-90e810dad791"
   },
   "outputs": [
    {
     "name": "stdout",
     "output_type": "stream",
     "text": [
      "Количество уникальных слов в коллекции после лемматизации -  44938\n"
     ]
    }
   ],
   "source": [
    "morph = MorphAnalyzer()\n",
    "number_of_words2 = set()\n",
    "\n",
    "for i in df.text.tolist():\n",
    "    temp = list()\n",
    "    for j in nltk.word_tokenize(str(i)):\n",
    "        temp.append(str(morph.parse(j)[0].normal_form))\n",
    "    number_of_words2.update(temp)\n",
    "\n",
    "print('Количество уникальных слов в коллекции после лемматизации - ', len(number_of_words2))"
   ]
  },
  {
   "cell_type": "markdown",
   "metadata": {
    "colab_type": "text",
    "id": "H9gJbQ45wRNa"
   },
   "source": [
    "### Подсчет средней длины текста в словах и символах"
   ]
  },
  {
   "cell_type": "code",
   "execution_count": 0,
   "metadata": {
    "colab": {},
    "colab_type": "code",
    "id": "ZzNSG8X_wRNd",
    "outputId": "2075aa88-98c3-4bb6-ed8c-c17c72b76010"
   },
   "outputs": [
    {
     "name": "stdout",
     "output_type": "stream",
     "text": [
      "Средняя длина текста в словах -  100.49340621204234\n",
      "Средняя длина текста в символах -  658.346347388513\n"
     ]
    }
   ],
   "source": [
    "mean_length_of_text_in_words = list()\n",
    "mean_length_of_text_in_chars = list()\n",
    "\n",
    "for i in df.text.tolist():    \n",
    "    mean_length_of_text_in_words.append(len(nltk.word_tokenize(str(i))))\n",
    "    mean_length_of_text_in_chars.append(len(str(i)))\n",
    "    \n",
    "print('Средняя длина текста в словах - ', np.mean(mean_length_of_text_in_words))\n",
    "print('Средняя длина текста в символах - ', np.mean(mean_length_of_text_in_chars))"
   ]
  },
  {
   "cell_type": "markdown",
   "metadata": {
    "colab_type": "text",
    "id": "-CtCjq2MwRNo"
   },
   "source": [
    "### Поиск 5 самых частых существительных в текстах каждого паблика"
   ]
  },
  {
   "cell_type": "code",
   "execution_count": 0,
   "metadata": {
    "colab": {},
    "colab_type": "code",
    "id": "i62ZcguswRNs",
    "outputId": "84b82c37-9fe7-4e9f-f632-051593d82d61"
   },
   "outputs": [
    {
     "name": "stdout",
     "output_type": "stream",
     "text": [
      "Самый частые существительные в классе mospolice\n",
      "[('МВД', 4944), ('России', 3887), ('полиции', 2977), ('Москве', 2672), ('полиция', 2616)]\n",
      "Самый частые существительные в классе mchsgov\n",
      "[('МЧС', 3481), ('России', 1647), ('МЧСРОССИИ', 1226), ('безопасности', 347), ('области', 271)]\n",
      "Самый частые существительные в классе russianpost\n",
      "[('России', 2527), ('Почты', 1123), ('ПочтаРоссии', 936), ('Почта', 825), ('года', 678)]\n",
      "Самый частые существительные в классе mil\n",
      "[('Минобороны', 1811), ('России', 1178), ('обороны', 798), ('военного', 735), ('ходе', 697)]\n"
     ]
    }
   ],
   "source": [
    "list_of_words = list()\n",
    "list_of_classes = list(set(df.source.tolist()))\n",
    "\n",
    "\n",
    "for i in list_of_classes:\n",
    "    temp = df[df['source'] == i]\n",
    "    temp_list_of_words = list()\n",
    "    for j in temp.text.tolist():\n",
    "        for k in nltk.word_tokenize(str(j)):\n",
    "            if 'NOUN' in str(morph.parse(k)[0].tag):\n",
    "                temp_list_of_words.append(str(k))\n",
    "    list_of_words.append(temp_list_of_words)\n",
    "    \n",
    "\n",
    "\n",
    "for i in range(len(list_of_classes)):\n",
    "    print('Самый частые существительные в классе', list_of_classes[i])\n",
    "    print(collections.Counter(list_of_words[i]).most_common(5))"
   ]
  },
  {
   "cell_type": "markdown",
   "metadata": {
    "colab_type": "text",
    "id": "FG7L8YshwRN-"
   },
   "source": [
    "### Разделение коллекции текстов на обучающую и тестовую выборку\n",
    "\n",
    "Т.к. классы представляют из себя названия сообществ, перед разделением необходимо закодировать их целыми числами"
   ]
  },
  {
   "cell_type": "code",
   "execution_count": 7,
   "metadata": {
    "colab": {
     "base_uri": "https://localhost:8080/",
     "height": 206
    },
    "colab_type": "code",
    "id": "GnUPvpg7wROC",
    "outputId": "ed8b4b08-0ff5-4113-ae36-25f3c0dfe174"
   },
   "outputs": [
    {
     "data": {
      "text/html": [
       "<div>\n",
       "<style scoped>\n",
       "    .dataframe tbody tr th:only-of-type {\n",
       "        vertical-align: middle;\n",
       "    }\n",
       "\n",
       "    .dataframe tbody tr th {\n",
       "        vertical-align: top;\n",
       "    }\n",
       "\n",
       "    .dataframe thead th {\n",
       "        text-align: right;\n",
       "    }\n",
       "</style>\n",
       "<table border=\"1\" class=\"dataframe\">\n",
       "  <thead>\n",
       "    <tr style=\"text-align: right;\">\n",
       "      <th></th>\n",
       "      <th>text</th>\n",
       "      <th>source</th>\n",
       "    </tr>\n",
       "  </thead>\n",
       "  <tbody>\n",
       "    <tr>\n",
       "      <th>0</th>\n",
       "      <td>Начальник Главного оперативного управления Ген...</td>\n",
       "      <td>1</td>\n",
       "    </tr>\n",
       "    <tr>\n",
       "      <th>1</th>\n",
       "      <td>Артиллерийские подразделения общевойскового об...</td>\n",
       "      <td>1</td>\n",
       "    </tr>\n",
       "    <tr>\n",
       "      <th>2</th>\n",
       "      <td>Подразделения морской пехоты Каспийской флотил...</td>\n",
       "      <td>1</td>\n",
       "    </tr>\n",
       "    <tr>\n",
       "      <th>3</th>\n",
       "      <td>Команды на всеармейских этапах конкурсов АрМИ-...</td>\n",
       "      <td>1</td>\n",
       "    </tr>\n",
       "    <tr>\n",
       "      <th>4</th>\n",
       "      <td>На большом учебно-методическом командирском сб...</td>\n",
       "      <td>1</td>\n",
       "    </tr>\n",
       "  </tbody>\n",
       "</table>\n",
       "</div>"
      ],
      "text/plain": [
       "                                                text  source\n",
       "0  Начальник Главного оперативного управления Ген...       1\n",
       "1  Артиллерийские подразделения общевойскового об...       1\n",
       "2  Подразделения морской пехоты Каспийской флотил...       1\n",
       "3  Команды на всеармейских этапах конкурсов АрМИ-...       1\n",
       "4  На большом учебно-методическом командирском сб...       1"
      ]
     },
     "execution_count": 7,
     "metadata": {},
     "output_type": "execute_result"
    }
   ],
   "source": [
    "encoding = preprocessing.LabelEncoder()\n",
    "encoding.fit(list(set(df.source.tolist())))\n",
    "\n",
    "df['source'] = encoding.transform(df.source.tolist())\n",
    "df.head()"
   ]
  },
  {
   "cell_type": "code",
   "execution_count": 0,
   "metadata": {
    "colab": {},
    "colab_type": "code",
    "id": "Z3D7Lhm8wROU"
   },
   "outputs": [],
   "source": [
    "x_train, x_test, y_train, y_test = train_test_split(df['text'], df['source'], test_size=0.2, random_state=12)"
   ]
  },
  {
   "cell_type": "markdown",
   "metadata": {
    "colab_type": "text",
    "id": "9yCVYfbpNhXd"
   },
   "source": [
    " ## Классификация по правилам\n",
    " \n",
    " * Разработаю несколько правил вида \"Если встречается слово $w$, то текст относится к паблику $c$\"\n",
    " * Посчитаю, какую точность, полноту, $f$-меру и $accuracy$ получаю при классификации по правилам\n",
    " * Проверю, получилось ли придумать правило, которое никогда не ошибается"
   ]
  },
  {
   "cell_type": "markdown",
   "metadata": {
    "colab_type": "text",
    "id": "S1xmWhmMwROg"
   },
   "source": [
    "### Подключение библиотек"
   ]
  },
  {
   "cell_type": "code",
   "execution_count": 8,
   "metadata": {
    "colab": {},
    "colab_type": "code",
    "id": "7L6eTfdlwROj"
   },
   "outputs": [],
   "source": [
    "import random\n",
    "from sklearn.metrics import accuracy_score, classification_report"
   ]
  },
  {
   "cell_type": "markdown",
   "metadata": {
    "colab_type": "text",
    "id": "uZRHEPU1wROt"
   },
   "source": [
    "### Просмотр меток классов"
   ]
  },
  {
   "cell_type": "code",
   "execution_count": 0,
   "metadata": {
    "colab": {},
    "colab_type": "code",
    "id": "gYY9S8SQwROx",
    "outputId": "b5a9260b-c6ad-41f9-c033-ab5d71bc55d0"
   },
   "outputs": [
    {
     "name": "stdout",
     "output_type": "stream",
     "text": [
      "mchsgov 0\n",
      "mil 1\n",
      "mospolice 2\n",
      "russianpost 3\n"
     ]
    }
   ],
   "source": [
    "for i in range(len(encoding.classes_)):\n",
    "    print(encoding.classes_[i], i)"
   ]
  },
  {
   "cell_type": "markdown",
   "metadata": {
    "colab_type": "text",
    "id": "OJLY-L-YwRPA"
   },
   "source": [
    "### Создание правила"
   ]
  },
  {
   "cell_type": "code",
   "execution_count": 0,
   "metadata": {
    "colab": {},
    "colab_type": "code",
    "id": "-d9Zj5ojwRPB"
   },
   "outputs": [],
   "source": [
    "rules = list()\n",
    "length_x_test = x_test.shape[0]\n",
    "for i in range(length_x_test):\n",
    "    if 'МЧС' in x_test.iloc[i] or 'МЧСРОССИИ' in x_test.iloc[i] or 'БудниМЧС' in x_test.iloc[i]:\n",
    "        rules.append(0)\n",
    "    elif 'Минобороны' in x_test.iloc[i] or 'обороны' in x_test.iloc[i] or 'военного' in x_test.iloc[i]:\n",
    "        rules.append(1)\n",
    "    elif 'МВД' in x_test.iloc[i] or 'полиции' in x_test.iloc[i] or 'полиция' in x_test.iloc[i]:\n",
    "        rules.append(2)\n",
    "    elif 'Почты' in x_test.iloc[i] or 'Почта' in x_test.iloc[i] or 'года' in x_test.iloc[i]:\n",
    "        rules.append(3)\n",
    "    else:\n",
    "        rules.append(random.randint(0, 3))"
   ]
  },
  {
   "cell_type": "markdown",
   "metadata": {
    "colab_type": "text",
    "id": "23PpQPrXwRPK"
   },
   "source": [
    "### Подсчет точности, полноты и f-меры"
   ]
  },
  {
   "cell_type": "code",
   "execution_count": 0,
   "metadata": {
    "colab": {},
    "colab_type": "code",
    "id": "gYyWAvpVwRPL",
    "outputId": "a4295774-da8a-4f27-f577-ddd5ed0e182b"
   },
   "outputs": [
    {
     "name": "stdout",
     "output_type": "stream",
     "text": [
      "              precision    recall  f1-score   support\n",
      "\n",
      "           0       0.84      0.89      0.86       590\n",
      "           1       0.85      0.74      0.79       600\n",
      "           2       0.84      0.97      0.90       569\n",
      "           3       0.79      0.72      0.75       547\n",
      "\n",
      "   micro avg       0.83      0.83      0.83      2306\n",
      "   macro avg       0.83      0.83      0.83      2306\n",
      "weighted avg       0.83      0.83      0.83      2306\n",
      "\n"
     ]
    }
   ],
   "source": [
    "print(classification_report(y_test, rules))"
   ]
  },
  {
   "cell_type": "markdown",
   "metadata": {
    "colab_type": "text",
    "id": "aZ5c-2m4wRPU"
   },
   "source": [
    "### Подсчет accuracy"
   ]
  },
  {
   "cell_type": "code",
   "execution_count": 0,
   "metadata": {
    "colab": {},
    "colab_type": "code",
    "id": "Q4254SEHwRPW",
    "outputId": "76075ade-9b57-4c90-da27-bacf38bf35bb"
   },
   "outputs": [
    {
     "name": "stdout",
     "output_type": "stream",
     "text": [
      "Accuracy -  0.8317432784041631\n"
     ]
    }
   ],
   "source": [
    "print('Accuracy - ', accuracy_score(y_test, rules[0:]))"
   ]
  },
  {
   "cell_type": "markdown",
   "metadata": {
    "colab_type": "text",
    "id": "yK9h8EuAwRPk"
   },
   "source": [
    "### Результат\n",
    "\n",
    "У меня не получилось придумать правило, которое бы не ошибалось. Но метрики получились неплохие, что показывает, что по самым частовстречающимся словам можно предсказывать метку для текста"
   ]
  },
  {
   "cell_type": "markdown",
   "metadata": {
    "colab_type": "text",
    "id": "22tJKQnaOjie"
   },
   "source": [
    "## Baseline\n",
    "Использую стандартный ```sklearn.pipeline``` для классификации текстов: \n",
    "* векторизация \n",
    "* $tf-idf$ взвешивание \n",
    "* логистическую регрессию\n",
    "\n",
    "Оценю результаты классификации по стандартным мерам качества и проведу анализ ошибок. Для этого визуализирую матрицу ошибок (confusion matrix). "
   ]
  },
  {
   "cell_type": "code",
   "execution_count": 9,
   "metadata": {
    "colab": {},
    "colab_type": "code",
    "id": "ivlVZFDTwRPs"
   },
   "outputs": [],
   "source": [
    "import seaborn as sn\n",
    "from sklearn.linear_model import LogisticRegression\n",
    "import matplotlib.pyplot as plt\n",
    "from sklearn.pipeline import Pipeline\n",
    "from sklearn.metrics import confusion_matrix\n",
    "from sklearn.feature_extraction.text import CountVectorizer, TfidfTransformer"
   ]
  },
  {
   "cell_type": "markdown",
   "metadata": {
    "colab_type": "text",
    "id": "R7FrZVPkwRPx"
   },
   "source": [
    "### Обучение pipline"
   ]
  },
  {
   "cell_type": "code",
   "execution_count": 0,
   "metadata": {
    "colab": {},
    "colab_type": "code",
    "id": "4284Ue2hwRPz"
   },
   "outputs": [],
   "source": [
    "baseline = Pipeline([\n",
    "    ('vectorization', CountVectorizer()),\n",
    "    ('tf-idf', TfidfTransformer()),\n",
    "    ('LR', LogisticRegression())\n",
    "])"
   ]
  },
  {
   "cell_type": "code",
   "execution_count": 0,
   "metadata": {
    "colab": {},
    "colab_type": "code",
    "id": "F2ehGJPOwRP8",
    "outputId": "58217050-186e-4ad1-e828-2f090019403c"
   },
   "outputs": [
    {
     "name": "stderr",
     "output_type": "stream",
     "text": [
      "/usr/local/lib64/python3.7/site-packages/sklearn/linear_model/logistic.py:433: FutureWarning: Default solver will be changed to 'lbfgs' in 0.22. Specify a solver to silence this warning.\n",
      "  FutureWarning)\n",
      "/usr/local/lib64/python3.7/site-packages/sklearn/linear_model/logistic.py:460: FutureWarning: Default multi_class will be changed to 'auto' in 0.22. Specify the multi_class option to silence this warning.\n",
      "  \"this warning.\", FutureWarning)\n"
     ]
    },
    {
     "data": {
      "text/plain": [
       "Pipeline(memory=None,\n",
       "     steps=[('vectorization', CountVectorizer(analyzer='word', binary=False, decode_error='strict',\n",
       "        dtype=<class 'numpy.int64'>, encoding='utf-8', input='content',\n",
       "        lowercase=True, max_df=1.0, max_features=None, min_df=1,\n",
       "        ngram_range=(1, 1), preprocessor=None, stop_words=None,\n",
       "    ...penalty='l2', random_state=None, solver='warn',\n",
       "          tol=0.0001, verbose=0, warm_start=False))])"
      ]
     },
     "execution_count": 89,
     "metadata": {
      "tags": []
     },
     "output_type": "execute_result"
    }
   ],
   "source": [
    "baseline.fit(x_train, y_train)"
   ]
  },
  {
   "cell_type": "code",
   "execution_count": 0,
   "metadata": {
    "colab": {},
    "colab_type": "code",
    "id": "0H-aBuiNwRQE"
   },
   "outputs": [],
   "source": [
    "baseline_predicted = baseline.predict(x_test)"
   ]
  },
  {
   "cell_type": "markdown",
   "metadata": {
    "colab_type": "text",
    "id": "GLBTYJ6_wRQU"
   },
   "source": [
    "### Результаты классификации"
   ]
  },
  {
   "cell_type": "code",
   "execution_count": 0,
   "metadata": {
    "colab": {},
    "colab_type": "code",
    "id": "KuyXC7_iwRQV",
    "outputId": "f4a387f1-e2bf-4d9f-fc9e-8f4801e5a02b"
   },
   "outputs": [
    {
     "name": "stdout",
     "output_type": "stream",
     "text": [
      "              precision    recall  f1-score   support\n",
      "\n",
      "           0       0.98      0.95      0.96       590\n",
      "           1       0.97      0.98      0.98       600\n",
      "           2       0.97      0.98      0.98       569\n",
      "           3       0.95      0.96      0.95       547\n",
      "\n",
      "   micro avg       0.97      0.97      0.97      2306\n",
      "   macro avg       0.97      0.97      0.97      2306\n",
      "weighted avg       0.97      0.97      0.97      2306\n",
      "\n",
      "Accuracy -  0.9679098005203816\n"
     ]
    }
   ],
   "source": [
    "print(classification_report(y_test, baseline_predicted))\n",
    "print('Accuracy - ', accuracy_score(y_test, baseline_predicted))"
   ]
  },
  {
   "cell_type": "markdown",
   "metadata": {
    "colab_type": "text",
    "id": "yheBbNfMwRQb"
   },
   "source": [
    "### Матрица ошибок"
   ]
  },
  {
   "cell_type": "code",
   "execution_count": 0,
   "metadata": {
    "colab": {},
    "colab_type": "code",
    "id": "xeuEaN2pwRQc",
    "outputId": "5c1e888f-c17c-40dc-be94-7148ad0632ce"
   },
   "outputs": [
    {
     "data": {
      "text/plain": [
       "<matplotlib.axes._subplots.AxesSubplot at 0x7fbc7f3ee2b0>"
      ]
     },
     "execution_count": 92,
     "metadata": {
      "tags": []
     },
     "output_type": "execute_result"
    },
    {
     "data": {
      "image/png": "[encoded data removed]",
      "text/plain": [
       "<Figure size 432x288 with 2 Axes>"
      ]
     },
     "metadata": {
      "needs_background": "light",
      "tags": []
     },
     "output_type": "display_data"
    }
   ],
   "source": [
    "conf_matrix = confusion_matrix(y_test, baseline_predicted)\n",
    "df_conf_matrix = pd.DataFrame(conf_matrix, index = [i for i in encoding.classes_], columns = [i for i in encoding.classes_])\n",
    "sn.heatmap(df_conf_matrix, annot=True)"
   ]
  },
  {
   "cell_type": "markdown",
   "metadata": {
    "colab_type": "text",
    "id": "8g9L0n6HwRQi"
   },
   "source": [
    "### Результат\n",
    "\n",
    "Данный метод лучше решает задачу. По матрице ошибок видно, что чаще всего он ошибается на классах МЧС и Почта России и на классах Почта России и МВД. "
   ]
  },
  {
   "cell_type": "markdown",
   "metadata": {
    "colab_type": "text",
    "id": "I4m1rDQ3PAqO"
   },
   "source": [
    "## Снижение размерности\n",
    "Добавлю в ```sklearn.pipeline```  методы снижения размерности TruncatedSVD."
   ]
  },
  {
   "cell_type": "code",
   "execution_count": 0,
   "metadata": {
    "colab": {},
    "colab_type": "code",
    "id": "SZb-fHqAwRQn"
   },
   "outputs": [],
   "source": [
    "from sklearn.decomposition import TruncatedSVD"
   ]
  },
  {
   "cell_type": "code",
   "execution_count": 0,
   "metadata": {
    "colab": {},
    "colab_type": "code",
    "id": "zJRakvbKwRQu"
   },
   "outputs": [],
   "source": [
    "baseline = Pipeline([\n",
    "    ('vectorization', CountVectorizer()),\n",
    "    ('tf-idf', TfidfTransformer()),\n",
    "    ('svd', TruncatedSVD(n_components=500)),\n",
    "    ('LR', LogisticRegression())\n",
    "])"
   ]
  },
  {
   "cell_type": "code",
   "execution_count": 0,
   "metadata": {
    "colab": {},
    "colab_type": "code",
    "id": "gWsVqGSJwRQz",
    "outputId": "e0d82922-1c9f-41dc-a8b6-6d381347512c"
   },
   "outputs": [
    {
     "name": "stderr",
     "output_type": "stream",
     "text": [
      "/usr/local/lib64/python3.7/site-packages/sklearn/linear_model/logistic.py:460: FutureWarning: Default multi_class will be changed to 'auto' in 0.22. Specify the multi_class option to silence this warning.\n",
      "  \"this warning.\", FutureWarning)\n"
     ]
    },
    {
     "data": {
      "text/plain": [
       "Pipeline(memory=None,\n",
       "     steps=[('vectorization', CountVectorizer(analyzer='word', binary=False, decode_error='strict',\n",
       "        dtype=<class 'numpy.int64'>, encoding='utf-8', input='content',\n",
       "        lowercase=True, max_df=1.0, max_features=None, min_df=1,\n",
       "        ngram_range=(1, 1), preprocessor=None, stop_words=None,\n",
       "    ...penalty='l2', random_state=None, solver='warn',\n",
       "          tol=0.0001, verbose=0, warm_start=False))])"
      ]
     },
     "execution_count": 95,
     "metadata": {
      "tags": []
     },
     "output_type": "execute_result"
    }
   ],
   "source": [
    "baseline.fit(x_train, y_train)"
   ]
  },
  {
   "cell_type": "code",
   "execution_count": 0,
   "metadata": {
    "colab": {},
    "colab_type": "code",
    "id": "jOlxl8EzwRRB"
   },
   "outputs": [],
   "source": [
    "baseline_predicted = baseline.predict(x_test)"
   ]
  },
  {
   "cell_type": "markdown",
   "metadata": {
    "colab_type": "text",
    "id": "E-ppJdX3wRRE"
   },
   "source": [
    "### Результаты классификации"
   ]
  },
  {
   "cell_type": "code",
   "execution_count": 0,
   "metadata": {
    "colab": {},
    "colab_type": "code",
    "id": "Jc3YqT2AwRRH",
    "outputId": "09ec084c-0f11-4125-c43e-87b1791a1781"
   },
   "outputs": [
    {
     "name": "stdout",
     "output_type": "stream",
     "text": [
      "              precision    recall  f1-score   support\n",
      "\n",
      "           0       0.98      0.93      0.96       590\n",
      "           1       0.96      0.98      0.97       600\n",
      "           2       0.97      0.98      0.97       569\n",
      "           3       0.94      0.96      0.95       547\n",
      "\n",
      "   micro avg       0.96      0.96      0.96      2306\n",
      "   macro avg       0.96      0.96      0.96      2306\n",
      "weighted avg       0.96      0.96      0.96      2306\n",
      "\n",
      "Accuracy -  0.9622723330442324\n"
     ]
    }
   ],
   "source": [
    "print(classification_report(y_test, baseline_predicted))\n",
    "print('Accuracy - ', accuracy_score(y_test, baseline_predicted))"
   ]
  },
  {
   "cell_type": "markdown",
   "metadata": {
    "colab_type": "text",
    "id": "5F6eckuxwRRP"
   },
   "source": [
    "### Матрица ошибок"
   ]
  },
  {
   "cell_type": "code",
   "execution_count": 0,
   "metadata": {
    "colab": {},
    "colab_type": "code",
    "id": "3rtv8sb-wRRR",
    "outputId": "036c9605-810e-4260-acfb-21a540af33f9"
   },
   "outputs": [
    {
     "data": {
      "text/plain": [
       "<matplotlib.axes._subplots.AxesSubplot at 0x7fbc7baf4be0>"
      ]
     },
     "execution_count": 98,
     "metadata": {
      "tags": []
     },
     "output_type": "execute_result"
    },
    {
     "data": {
      "image/png": "[encoded data removed]",
      "text/plain": [
       "<Figure size 432x288 with 2 Axes>"
      ]
     },
     "metadata": {
      "needs_background": "light",
      "tags": []
     },
     "output_type": "display_data"
    }
   ],
   "source": [
    "conf_matrix = confusion_matrix(y_test, baseline_predicted)\n",
    "df_conf_matrix = pd.DataFrame(conf_matrix, index = [i for i in encoding.classes_], columns = [i for i in encoding.classes_])\n",
    "sn.heatmap(df_conf_matrix, annot=True)"
   ]
  },
  {
   "cell_type": "markdown",
   "metadata": {
    "colab_type": "text",
    "id": "UwMszxtdwRRb"
   },
   "source": [
    "### Результат\n",
    "\n",
    "При моём сочетании моделей видно, что понижение размерности не улучшило качество."
   ]
  },
  {
   "cell_type": "markdown",
   "metadata": {
    "colab_type": "text",
    "id": "7vVPaaVwPVwg"
   },
   "source": [
    "## Лемматизация"
   ]
  },
  {
   "cell_type": "code",
   "execution_count": 0,
   "metadata": {
    "colab": {},
    "colab_type": "code",
    "id": "44bwT2lowRRc"
   },
   "outputs": [],
   "source": [
    "df_lemm = pd.DataFrame({'text': df.text.values, 'source': df.source.values})"
   ]
  },
  {
   "cell_type": "code",
   "execution_count": 0,
   "metadata": {
    "colab": {},
    "colab_type": "code",
    "id": "sUKmAmMdwRRf"
   },
   "outputs": [],
   "source": [
    "morph = MorphAnalyzer()\n",
    "\n",
    "for i in range(df_lemm.shape[0]):\n",
    "    temp = ''\n",
    "    for j in nltk.word_tokenize(str(df_lemm.iloc[i, 0])):\n",
    "        temp += str(morph.parse(j)[0].normal_form) + ' '\n",
    "    df_lemm.iloc[i, 0] = temp"
   ]
  },
  {
   "cell_type": "code",
   "execution_count": 0,
   "metadata": {
    "colab": {},
    "colab_type": "code",
    "id": "XKgdEqQpwRRj"
   },
   "outputs": [],
   "source": [
    "x_train2, x_test2, y_train2, y_test2 = train_test_split(df_lemm['text'], df_lemm['source'], test_size=0.2, random_state=12)"
   ]
  },
  {
   "cell_type": "code",
   "execution_count": 0,
   "metadata": {
    "colab": {},
    "colab_type": "code",
    "id": "aW0Ka61swRRn"
   },
   "outputs": [],
   "source": [
    "baseline = Pipeline([\n",
    "    ('vectorization', CountVectorizer()),\n",
    "    ('tf-idf', TfidfTransformer()),\n",
    "    ('svd', TruncatedSVD(n_components=500)),\n",
    "    ('LR', LogisticRegression())\n",
    "])"
   ]
  },
  {
   "cell_type": "code",
   "execution_count": 0,
   "metadata": {
    "colab": {},
    "colab_type": "code",
    "id": "hraBHrUvwRRq",
    "outputId": "86e38790-7183-428b-dd20-fa1f342a1087"
   },
   "outputs": [
    {
     "name": "stderr",
     "output_type": "stream",
     "text": [
      "/usr/local/lib64/python3.7/site-packages/sklearn/linear_model/logistic.py:433: FutureWarning: Default solver will be changed to 'lbfgs' in 0.22. Specify a solver to silence this warning.\n",
      "  FutureWarning)\n",
      "/usr/local/lib64/python3.7/site-packages/sklearn/linear_model/logistic.py:460: FutureWarning: Default multi_class will be changed to 'auto' in 0.22. Specify the multi_class option to silence this warning.\n",
      "  \"this warning.\", FutureWarning)\n"
     ]
    },
    {
     "data": {
      "text/plain": [
       "Pipeline(memory=None,\n",
       "     steps=[('vectorization', CountVectorizer(analyzer='word', binary=False, decode_error='strict',\n",
       "        dtype=<class 'numpy.int64'>, encoding='utf-8', input='content',\n",
       "        lowercase=True, max_df=1.0, max_features=None, min_df=1,\n",
       "        ngram_range=(1, 1), preprocessor=None, stop_words=None,\n",
       "    ...penalty='l2', random_state=None, solver='warn',\n",
       "          tol=0.0001, verbose=0, warm_start=False))])"
      ]
     },
     "execution_count": 103,
     "metadata": {
      "tags": []
     },
     "output_type": "execute_result"
    }
   ],
   "source": [
    "baseline.fit(x_train2, y_train2)"
   ]
  },
  {
   "cell_type": "code",
   "execution_count": 0,
   "metadata": {
    "colab": {},
    "colab_type": "code",
    "id": "05vKmWScwRRw"
   },
   "outputs": [],
   "source": [
    "baseline_predicted = baseline.predict(x_test2)"
   ]
  },
  {
   "cell_type": "markdown",
   "metadata": {
    "colab_type": "text",
    "id": "arTyE5u1wRRz"
   },
   "source": [
    "### Результаты классификации"
   ]
  },
  {
   "cell_type": "code",
   "execution_count": 0,
   "metadata": {
    "colab": {},
    "colab_type": "code",
    "id": "ovAoAVAfwRR0",
    "outputId": "778d59c0-68b0-4e0c-8503-a8beafac679d"
   },
   "outputs": [
    {
     "name": "stdout",
     "output_type": "stream",
     "text": [
      "              precision    recall  f1-score   support\n",
      "\n",
      "           0       0.98      0.96      0.97       590\n",
      "           1       0.98      0.98      0.98       600\n",
      "           2       0.97      0.99      0.98       569\n",
      "           3       0.97      0.96      0.96       547\n",
      "\n",
      "   micro avg       0.97      0.97      0.97      2306\n",
      "   macro avg       0.97      0.97      0.97      2306\n",
      "weighted avg       0.97      0.97      0.97      2306\n",
      "\n",
      "Accuracy -  0.9731136166522116\n"
     ]
    }
   ],
   "source": [
    "print(classification_report(y_test2, baseline_predicted))\n",
    "print('Accuracy - ', accuracy_score(y_test2, baseline_predicted))"
   ]
  },
  {
   "cell_type": "markdown",
   "metadata": {
    "colab_type": "text",
    "id": "zze-C903wRR8"
   },
   "source": [
    "### Матрица ошибок"
   ]
  },
  {
   "cell_type": "code",
   "execution_count": 0,
   "metadata": {
    "colab": {},
    "colab_type": "code",
    "id": "-Iq-I9Z2wRR-",
    "outputId": "c96a78a2-4295-4f81-e101-5daf16216601"
   },
   "outputs": [
    {
     "data": {
      "text/plain": [
       "<matplotlib.axes._subplots.AxesSubplot at 0x7fbc7b018a58>"
      ]
     },
     "execution_count": 106,
     "metadata": {
      "tags": []
     },
     "output_type": "execute_result"
    },
    {
     "data": {
      "image/png": "[encoded data removed]",
      "text/plain": [
       "<Figure size 432x288 with 2 Axes>"
      ]
     },
     "metadata": {
      "needs_background": "light",
      "tags": []
     },
     "output_type": "display_data"
    }
   ],
   "source": [
    "conf_matrix = confusion_matrix(y_test2, baseline_predicted)\n",
    "df_conf_matrix = pd.DataFrame(conf_matrix, index = [i for i in encoding.classes_], columns = [i for i in encoding.classes_])\n",
    "sn.heatmap(df_conf_matrix, annot=True)"
   ]
  },
  {
   "cell_type": "markdown",
   "metadata": {
    "colab_type": "text",
    "id": "rFfKlWkBwRSE"
   },
   "source": [
    "### Результат\n",
    "\n",
    "Accuracy стало больше 97%. Уменьшились ошибки для классов МЧС и Почта России и для классов Почта России и МВД. "
   ]
  },
  {
   "cell_type": "markdown",
   "metadata": {
    "colab_type": "text",
    "id": "cdakRHahQp-l"
   },
   "source": [
    "## Continious bag of words\n",
    "Для baseline решения я использовала обычное представление текста в виде мешка слов. Попробую использовать другие модели представления текста – например, в виде непрерывного мешка слов, то есть, в виде набора эмбеддингов. Для того, чтобы получить вектор текста обучу Word2vec."
   ]
  },
  {
   "cell_type": "code",
   "execution_count": 0,
   "metadata": {
    "colab": {},
    "colab_type": "code",
    "id": "99SSAz2VwRSG"
   },
   "outputs": [],
   "source": [
    "from gensim.models import word2vec, KeyedVectors"
   ]
  },
  {
   "cell_type": "markdown",
   "metadata": {
    "colab_type": "text",
    "id": "SbDmWqtKwRSU"
   },
   "source": [
    "### Обучение модели Word2Vec"
   ]
  },
  {
   "cell_type": "code",
   "execution_count": 0,
   "metadata": {
    "colab": {},
    "colab_type": "code",
    "id": "p8_Unj19wRSV"
   },
   "outputs": [],
   "source": [
    "def build_corpus(data):\n",
    "    corpus = []\n",
    "    for sentence in data:\n",
    "        word_list = sentence.split(\" \")\n",
    "        corpus.append(word_list)\n",
    "    return corpus"
   ]
  },
  {
   "cell_type": "code",
   "execution_count": 0,
   "metadata": {
    "colab": {},
    "colab_type": "code",
    "id": "SwaRSVocwRSZ"
   },
   "outputs": [],
   "source": [
    "corpus = build_corpus(df['text'])"
   ]
  },
  {
   "cell_type": "code",
   "execution_count": 0,
   "metadata": {
    "colab": {},
    "colab_type": "code",
    "id": "yfcdo5RWwRSf"
   },
   "outputs": [],
   "source": [
    "model = word2vec.Word2Vec(corpus, size=50, window=3, min_count=1, workers=4)"
   ]
  },
  {
   "cell_type": "code",
   "execution_count": 0,
   "metadata": {
    "colab": {},
    "colab_type": "code",
    "id": "BfO3iO-BwRSi",
    "outputId": "3b60e957-a778-4dbe-ac2f-1dacdbe5b4d8"
   },
   "outputs": [
    {
     "name": "stderr",
     "output_type": "stream",
     "text": [
      "/usr/local/lib/python3.7/site-packages/ipykernel_launcher.py:2: DeprecationWarning: Call to deprecated `syn0` (Attribute will be removed in 4.0.0, use self.vectors instead).\n",
      "  \n"
     ]
    }
   ],
   "source": [
    "#создание словаря со словами и соответствующими векторами \n",
    "w2v = dict(zip(model.wv.index2word, model.wv.syn0))"
   ]
  },
  {
   "cell_type": "code",
   "execution_count": 0,
   "metadata": {
    "colab": {},
    "colab_type": "code",
    "id": "ThUjB3iCwRSp"
   },
   "outputs": [],
   "source": [
    "#функция для создания векторов текстов\n",
    "def vector_for_sentence(w2v_dict, data):\n",
    "    return np.array([\n",
    "        np.mean([w2v_dict[w] for w in sentence if w in w2v_dict]\n",
    "        or [np.zeros(50)], axis=0)\n",
    "         for sentence in data\n",
    "    ])"
   ]
  },
  {
   "cell_type": "code",
   "execution_count": 0,
   "metadata": {
    "colab": {},
    "colab_type": "code",
    "id": "Fipq7XIBwRSz"
   },
   "outputs": [],
   "source": [
    "data_vectors = vector_for_sentence(w2v, corpus)"
   ]
  },
  {
   "cell_type": "code",
   "execution_count": 0,
   "metadata": {
    "colab": {},
    "colab_type": "code",
    "id": "LkZQKGxKwRS4"
   },
   "outputs": [],
   "source": [
    "x_train, x_test, y_train, y_test = train_test_split(data_vectors, df['source'], test_size=0.2, random_state=12)"
   ]
  },
  {
   "cell_type": "code",
   "execution_count": 0,
   "metadata": {
    "colab": {},
    "colab_type": "code",
    "id": "dfMZo0dxwRS7"
   },
   "outputs": [],
   "source": [
    "classifier = Pipeline([\n",
    "    ('LR', LogisticRegression())\n",
    "])"
   ]
  },
  {
   "cell_type": "code",
   "execution_count": 0,
   "metadata": {
    "colab": {},
    "colab_type": "code",
    "id": "OXbPF_ZmwRTB",
    "outputId": "3fffa720-c7fb-42b0-f666-1cfd9459bc22"
   },
   "outputs": [
    {
     "name": "stderr",
     "output_type": "stream",
     "text": [
      "/usr/local/lib64/python3.7/site-packages/sklearn/linear_model/logistic.py:433: FutureWarning: Default solver will be changed to 'lbfgs' in 0.22. Specify a solver to silence this warning.\n",
      "  FutureWarning)\n",
      "/usr/local/lib64/python3.7/site-packages/sklearn/linear_model/logistic.py:460: FutureWarning: Default multi_class will be changed to 'auto' in 0.22. Specify the multi_class option to silence this warning.\n",
      "  \"this warning.\", FutureWarning)\n"
     ]
    },
    {
     "data": {
      "text/plain": [
       "Pipeline(memory=None,\n",
       "     steps=[('LR', LogisticRegression(C=1.0, class_weight=None, dual=False, fit_intercept=True,\n",
       "          intercept_scaling=1, max_iter=100, multi_class='warn',\n",
       "          n_jobs=None, penalty='l2', random_state=None, solver='warn',\n",
       "          tol=0.0001, verbose=0, warm_start=False))])"
      ]
     },
     "execution_count": 179,
     "metadata": {
      "tags": []
     },
     "output_type": "execute_result"
    }
   ],
   "source": [
    "classifier.fit(x_train, y_train)"
   ]
  },
  {
   "cell_type": "code",
   "execution_count": 0,
   "metadata": {
    "colab": {},
    "colab_type": "code",
    "id": "4iHor68PwRTG"
   },
   "outputs": [],
   "source": [
    "classifier_predicted = classifier.predict(x_test)"
   ]
  },
  {
   "cell_type": "markdown",
   "metadata": {
    "colab_type": "text",
    "id": "K5bClhwTwRTJ"
   },
   "source": [
    "### Результаты классификации"
   ]
  },
  {
   "cell_type": "code",
   "execution_count": 0,
   "metadata": {
    "colab": {},
    "colab_type": "code",
    "id": "_B3GLfA3wRTJ",
    "outputId": "05f1013f-2804-40e2-c047-57707120a757"
   },
   "outputs": [
    {
     "name": "stdout",
     "output_type": "stream",
     "text": [
      "              precision    recall  f1-score   support\n",
      "\n",
      "           0       0.84      0.74      0.79       590\n",
      "           1       0.85      0.87      0.86       600\n",
      "           2       0.92      0.89      0.90       569\n",
      "           3       0.73      0.84      0.78       547\n",
      "\n",
      "   micro avg       0.83      0.83      0.83      2306\n",
      "   macro avg       0.84      0.83      0.83      2306\n",
      "weighted avg       0.84      0.83      0.83      2306\n",
      "\n",
      "Accuracy -  0.8330442324371206\n"
     ]
    }
   ],
   "source": [
    "print(classification_report(y_test, classifier_predicted))\n",
    "print('Accuracy - ', accuracy_score(y_test, classifier_predicted))"
   ]
  },
  {
   "cell_type": "markdown",
   "metadata": {
    "colab_type": "text",
    "id": "dfqZIFUWwRTO"
   },
   "source": [
    "### Матрица ошибок"
   ]
  },
  {
   "cell_type": "code",
   "execution_count": 0,
   "metadata": {
    "colab": {},
    "colab_type": "code",
    "id": "hB3-Dxl6wRTZ",
    "outputId": "c27c45b7-0694-4953-efcd-991fd33ecae5"
   },
   "outputs": [
    {
     "data": {
      "text/plain": [
       "<matplotlib.axes._subplots.AxesSubplot at 0x7fbcb7ab0eb8>"
      ]
     },
     "execution_count": 182,
     "metadata": {
      "tags": []
     },
     "output_type": "execute_result"
    },
    {
     "data": {
      "image/png": "[encoded data removed]",
      "text/plain": [
       "<Figure size 432x288 with 2 Axes>"
      ]
     },
     "metadata": {
      "needs_background": "light",
      "tags": []
     },
     "output_type": "display_data"
    }
   ],
   "source": [
    "conf_matrix = confusion_matrix(y_test, classifier_predicted)\n",
    "df_conf_matrix = pd.DataFrame(conf_matrix, index = [i for i in encoding.classes_], columns = [i for i in encoding.classes_])\n",
    "sn.heatmap(df_conf_matrix, annot=True)"
   ]
  },
  {
   "cell_type": "markdown",
   "metadata": {
    "colab_type": "text",
    "id": "e6-4Gs_JwRTd"
   },
   "source": [
    "### Результат\n",
    "\n",
    "Качество на данных сильно упало по сравнению с предыдущими методами, хотя я и обучала сама вектора, а не использовала предобученные. Также, данная модель стала выдавать больше ошибок"
   ]
  },
  {
   "cell_type": "markdown",
   "metadata": {
    "colab_type": "text",
    "id": "uyVQ5Gm7Qzcz"
   },
   "source": [
    "## fastText\n",
    "\n",
    "Использую ```fastText``` в режиме классификации. "
   ]
  },
  {
   "cell_type": "markdown",
   "metadata": {
    "colab_type": "text",
    "id": "OMdmNF36wRTf"
   },
   "source": [
    "### Подготовка данных для использования fastText"
   ]
  },
  {
   "cell_type": "code",
   "execution_count": 20,
   "metadata": {
    "colab": {},
    "colab_type": "code",
    "id": "5HGCvohJwRTf"
   },
   "outputs": [],
   "source": [
    "df_fasttext = pd.DataFrame({'text': df.text.values, 'source': list(map(lambda i: '__label__' + str(i), df.source.values))})"
   ]
  },
  {
   "cell_type": "code",
   "execution_count": 21,
   "metadata": {
    "colab": {},
    "colab_type": "code",
    "id": "3-K6v-_FwRTi",
    "outputId": "c9bcce37-15ae-4ffc-f04a-dff98f2103a3"
   },
   "outputs": [
    {
     "data": {
      "text/html": [
       "<div>\n",
       "<style scoped>\n",
       "    .dataframe tbody tr th:only-of-type {\n",
       "        vertical-align: middle;\n",
       "    }\n",
       "\n",
       "    .dataframe tbody tr th {\n",
       "        vertical-align: top;\n",
       "    }\n",
       "\n",
       "    .dataframe thead th {\n",
       "        text-align: right;\n",
       "    }\n",
       "</style>\n",
       "<table border=\"1\" class=\"dataframe\">\n",
       "  <thead>\n",
       "    <tr style=\"text-align: right;\">\n",
       "      <th></th>\n",
       "      <th>text</th>\n",
       "      <th>source</th>\n",
       "    </tr>\n",
       "  </thead>\n",
       "  <tbody>\n",
       "    <tr>\n",
       "      <th>0</th>\n",
       "      <td>Начальник Главного оперативного управления Ген...</td>\n",
       "      <td>__label__1</td>\n",
       "    </tr>\n",
       "    <tr>\n",
       "      <th>1</th>\n",
       "      <td>Артиллерийские подразделения общевойскового об...</td>\n",
       "      <td>__label__1</td>\n",
       "    </tr>\n",
       "    <tr>\n",
       "      <th>2</th>\n",
       "      <td>Подразделения морской пехоты Каспийской флотил...</td>\n",
       "      <td>__label__1</td>\n",
       "    </tr>\n",
       "    <tr>\n",
       "      <th>3</th>\n",
       "      <td>Команды на всеармейских этапах конкурсов АрМИ-...</td>\n",
       "      <td>__label__1</td>\n",
       "    </tr>\n",
       "    <tr>\n",
       "      <th>4</th>\n",
       "      <td>На большом учебно-методическом командирском сб...</td>\n",
       "      <td>__label__1</td>\n",
       "    </tr>\n",
       "  </tbody>\n",
       "</table>\n",
       "</div>"
      ],
      "text/plain": [
       "                                                text      source\n",
       "0  Начальник Главного оперативного управления Ген...  __label__1\n",
       "1  Артиллерийские подразделения общевойскового об...  __label__1\n",
       "2  Подразделения морской пехоты Каспийской флотил...  __label__1\n",
       "3  Команды на всеармейских этапах конкурсов АрМИ-...  __label__1\n",
       "4  На большом учебно-методическом командирском сб...  __label__1"
      ]
     },
     "execution_count": 21,
     "metadata": {},
     "output_type": "execute_result"
    }
   ],
   "source": [
    "df_fasttext.head()"
   ]
  },
  {
   "cell_type": "code",
   "execution_count": 22,
   "metadata": {
    "colab": {},
    "colab_type": "code",
    "id": "z09Ceo77wRTm"
   },
   "outputs": [],
   "source": [
    "x_train, x_test, y_train, y_test = train_test_split(df_fasttext['text'], df_fasttext['source'], test_size=0.2, random_state=12)"
   ]
  },
  {
   "cell_type": "code",
   "execution_count": 23,
   "metadata": {
    "colab": {},
    "colab_type": "code",
    "id": "0Hf1vZZIwRTp"
   },
   "outputs": [],
   "source": [
    "#Для использования fasttext необходимо сохранить данные в .txt формате\n",
    "\n",
    "with open('vk_texts_with_sources_train.txt', 'w') as fasttext_train:\n",
    "    for i in range(x_train.shape[0]):\n",
    "        fasttext_train.write(x_train.iloc[i] + '\\t' + y_train.iloc[i] + '\\n')\n",
    "        \n",
    "with open('vk_texts_with_sources_test.txt', 'w') as fasttext_test:\n",
    "    for i in range(x_test.shape[0]):\n",
    "        fasttext_test.write(x_test.iloc[i] + '\\t' + y_test.iloc[i] + '\\n')"
   ]
  },
  {
   "cell_type": "markdown",
   "metadata": {
    "colab_type": "text",
    "id": "R3HcHkCCwRTs"
   },
   "source": [
    "### Обучение модель FastText"
   ]
  },
  {
   "cell_type": "code",
   "execution_count": 51,
   "metadata": {
    "colab": {},
    "colab_type": "code",
    "id": "YHYpu-SZwRTu",
    "outputId": "50e70b0b-1582-43d7-e504-ab8da8e2eb59",
    "scrolled": true
   },
   "outputs": [
    {
     "name": "stdout",
     "output_type": "stream",
     "text": [
      "Read 0M words\n",
      "Number of words:  116819\n",
      "Number of labels: 4\n",
      "Progress: 100.0% words/sec/thread:  160837 lr: -0.000005 loss:  0.567602 ETA:   0h 0mh 0m 77.6% words/sec/thread:  156560 lr:  0.022392 loss:  0.673307 ETA:   0h 0m100.0% words/sec/thread:  160834 lr:  0.000000 loss:  0.567602 ETA:   0h 0m\n"
     ]
    }
   ],
   "source": [
    "!fasttext supervised -input vk_texts_with_sources_train.txt -output fasttext_model -minn 3 -maxn 5 -wordNgrams 3 -dim 20 -epoch 10 -thread 4"
   ]
  },
  {
   "cell_type": "code",
   "execution_count": 52,
   "metadata": {},
   "outputs": [],
   "source": [
    "!fasttext quantize -input vk_texts_with_sources_train.txt -output fasttext_model"
   ]
  },
  {
   "cell_type": "code",
   "execution_count": 53,
   "metadata": {
    "colab": {},
    "colab_type": "code",
    "id": "q50fD9pewRUJ",
    "outputId": "bd1b0e65-b9bf-45ac-d478-4a1d792f9f8c"
   },
   "outputs": [
    {
     "name": "stdout",
     "output_type": "stream",
     "text": [
      "N\t2306\r\n",
      "P@1\t0.958\r\n",
      "R@1\t0.958\r\n"
     ]
    }
   ],
   "source": [
    "!fasttext test fasttext_model.ftz vk_texts_with_sources_test.txt  1"
   ]
  },
  {
   "cell_type": "code",
   "execution_count": 54,
   "metadata": {
    "colab": {},
    "colab_type": "code",
    "id": "Q5G4ccV5wRUQ",
    "outputId": "780e6692-80e3-4a97-fa04-1938212c6398"
   },
   "outputs": [],
   "source": [
    "!fasttext predict-prob fasttext_model.ftz vk_texts_with_sources_test.txt > fasttext_predict.txt"
   ]
  },
  {
   "cell_type": "code",
   "execution_count": 55,
   "metadata": {
    "colab": {},
    "colab_type": "code",
    "id": "Nr0gaxvWwRUW"
   },
   "outputs": [],
   "source": [
    "with open('fasttext_predict.txt') as file:\n",
    "    lines = file.readlines()\n",
    "    \n",
    "fasttext_predicted = list()\n",
    "\n",
    "for i in lines:\n",
    "    fasttext_predicted.append(i.split(' ')[0])"
   ]
  },
  {
   "cell_type": "markdown",
   "metadata": {
    "colab_type": "text",
    "id": "M0N8020_wRUe"
   },
   "source": [
    "### Результаты классификации"
   ]
  },
  {
   "cell_type": "code",
   "execution_count": 56,
   "metadata": {
    "colab": {},
    "colab_type": "code",
    "id": "ivk31touwRUf"
   },
   "outputs": [
    {
     "name": "stdout",
     "output_type": "stream",
     "text": [
      "              precision    recall  f1-score   support\n",
      "\n",
      "  __label__0       0.99      0.95      0.97       590\n",
      "  __label__1       0.96      0.98      0.97       600\n",
      "  __label__2       0.96      0.95      0.96       569\n",
      "  __label__3       0.92      0.95      0.94       547\n",
      "\n",
      "   micro avg       0.96      0.96      0.96      2306\n",
      "   macro avg       0.96      0.96      0.96      2306\n",
      "weighted avg       0.96      0.96      0.96      2306\n",
      "\n",
      "Accuracy -  0.95836947094536\n"
     ]
    }
   ],
   "source": [
    "print(classification_report(y_test, fasttext_predicted))\n",
    "print('Accuracy - ', accuracy_score(y_test, fasttext_predicted))"
   ]
  },
  {
   "cell_type": "markdown",
   "metadata": {
    "colab_type": "text",
    "id": "KraT6qXgwRUh"
   },
   "source": [
    "### Матрица ошибок"
   ]
  },
  {
   "cell_type": "code",
   "execution_count": 57,
   "metadata": {
    "colab": {},
    "colab_type": "code",
    "id": "Hg1eo5ShwRUi"
   },
   "outputs": [
    {
     "data": {
      "text/plain": [
       "<matplotlib.axes._subplots.AxesSubplot at 0x7fc9cc45fa90>"
      ]
     },
     "execution_count": 57,
     "metadata": {},
     "output_type": "execute_result"
    },
    {
     "data": {
      "image/png": "[encoded data removed]",
      "text/plain": [
       "<Figure size 432x288 with 2 Axes>"
      ]
     },
     "metadata": {
      "needs_background": "light"
     },
     "output_type": "display_data"
    }
   ],
   "source": [
    "conf_matrix = confusion_matrix(y_test, fasttext_predicted)\n",
    "df_conf_matrix = pd.DataFrame(conf_matrix, index = [i for i in encoding.classes_], columns = [i for i in encoding.classes_])\n",
    "sn.heatmap(df_conf_matrix, annot=True)"
   ]
  },
  {
   "cell_type": "markdown",
   "metadata": {
    "colab_type": "text",
    "id": "xKkb61_IwRUq"
   },
   "source": [
    "### Результат\n",
    "\n",
    "Данный эксперимент показывает, что FastText справляется с задачей значительно лучше, чем Word2Vec. Также данная модель выдает значительно меньше ошибок."
   ]
  },
  {
   "cell_type": "markdown",
   "metadata": {
    "colab_type": "text",
    "id": "JrYhxfJPwRUq"
   },
   "source": [
    "## CNN\n",
    "\n",
    "Реализую модель Kim et al (2014) для решения задачи классификации с помощью CNN. "
   ]
  },
  {
   "cell_type": "code",
   "execution_count": 0,
   "metadata": {
    "colab": {},
    "colab_type": "code",
    "id": "7VBD7kcuwRUs"
   },
   "outputs": [],
   "source": [
    "from keras.preprocessing.text import Tokenizer\n",
    "from keras.preprocessing import sequence\n",
    "from keras.layers import *\n",
    "from keras import Sequential,optimizers"
   ]
  },
  {
   "cell_type": "code",
   "execution_count": 0,
   "metadata": {
    "colab": {},
    "colab_type": "code",
    "id": "i8eBmVjowRUv"
   },
   "outputs": [],
   "source": [
    "df_cnn_and_rnn = pd.DataFrame({'text': df.text.values, 'source': df.source.values})"
   ]
  },
  {
   "cell_type": "code",
   "execution_count": 0,
   "metadata": {
    "colab": {},
    "colab_type": "code",
    "id": "nfKdEgDdwRVB"
   },
   "outputs": [],
   "source": [
    "x_train, x_test, y_train, y_test = train_test_split(df_cnn_and_rnn['text'], df_cnn_and_rnn['source'], test_size=0.2, random_state=12)"
   ]
  },
  {
   "cell_type": "code",
   "execution_count": 0,
   "metadata": {
    "colab": {},
    "colab_type": "code",
    "id": "oyAMAC2EwRVD"
   },
   "outputs": [],
   "source": [
    "tokenizer = Tokenizer(num_words=98410)\n",
    "tokenizer.fit_on_texts(x_train)\n",
    "\n",
    "sequences_train = tokenizer.texts_to_sequences(x_train)\n",
    "sequences_test = tokenizer.texts_to_sequences(x_test)\n",
    "\n",
    "x_train = sequence.pad_sequences(sequences_train,maxlen=150)\n",
    "x_test = sequence.pad_sequences(sequences_test,maxlen=150)"
   ]
  },
  {
   "cell_type": "code",
   "execution_count": 0,
   "metadata": {
    "colab": {},
    "colab_type": "code",
    "id": "FLhj-IPewRVJ"
   },
   "outputs": [],
   "source": [
    "vocab_size = tokenizer.word_index.__len__() + 1\n",
    "embedding_dim = 50\n",
    "num_filters = 32 \n",
    "adam = optimizers.Adam(lr=0.001)\n",
    "model = Sequential()\n",
    "model.add(Embedding(vocab_size,\n",
    "                    embedding_dim,\n",
    "                    input_length=max_length))\n",
    "model.add(Conv1D(num_filters, 7, activation='relu', padding='same'))\n",
    "model.add(MaxPooling1D(2))\n",
    "model.add(GlobalMaxPooling1D())\n",
    "model.add(Dropout(0.25))\n",
    "model.add(Dense(32, activation='relu'))\n",
    "model.add(Dense(16, activation='relu')) \n",
    "model.add(Dense(8, activation='softmax'))  \n",
    "model.compile(loss='sparse_categorical_crossentropy', optimizer=adam, metrics=['accuracy'])"
   ]
  },
  {
   "cell_type": "code",
   "execution_count": 0,
   "metadata": {
    "colab": {},
    "colab_type": "code",
    "id": "u36jeU6YwRVN",
    "outputId": "41bdf98f-1268-45aa-e2c1-39c133214c35"
   },
   "outputs": [
    {
     "name": "stdout",
     "output_type": "stream",
     "text": [
      "Epoch 1/10\n",
      "9220/9220 [==============================] - 12s 1ms/step - loss: 1.4756 - acc: 0.4352\n",
      "Epoch 2/10\n",
      "9220/9220 [==============================] - 11s 1ms/step - loss: 0.3456 - acc: 0.9145\n",
      "Epoch 3/10\n",
      "9220/9220 [==============================] - 11s 1ms/step - loss: 0.1452 - acc: 0.9664\n",
      "Epoch 4/10\n",
      "9220/9220 [==============================] - 11s 1ms/step - loss: 0.0878 - acc: 0.9778\n",
      "Epoch 5/10\n",
      "9220/9220 [==============================] - 11s 1ms/step - loss: 0.0599 - acc: 0.9844\n",
      "Epoch 6/10\n",
      "9220/9220 [==============================] - 11s 1ms/step - loss: 0.0437 - acc: 0.9884\n",
      "Epoch 7/10\n",
      "9220/9220 [==============================] - 10s 1ms/step - loss: 0.0349 - acc: 0.9914\n",
      "Epoch 8/10\n",
      "9220/9220 [==============================] - 11s 1ms/step - loss: 0.0289 - acc: 0.9922\n",
      "Epoch 9/10\n",
      "9220/9220 [==============================] - 10s 1ms/step - loss: 0.0227 - acc: 0.9937\n",
      "Epoch 10/10\n",
      "9220/9220 [==============================] - 10s 1ms/step - loss: 0.0152 - acc: 0.9958\n"
     ]
    }
   ],
   "source": [
    "cnn_model = model.fit(x_train, y_train, batch_size=100, epochs=10)"
   ]
  },
  {
   "cell_type": "code",
   "execution_count": 0,
   "metadata": {
    "colab": {},
    "colab_type": "code",
    "id": "lAUKnduqwRVS"
   },
   "outputs": [],
   "source": [
    "cnn_predicted = model.predict_classes(x_test)"
   ]
  },
  {
   "cell_type": "markdown",
   "metadata": {
    "colab_type": "text",
    "id": "7sh7A8nDwRVV"
   },
   "source": [
    "### Результаты классификации"
   ]
  },
  {
   "cell_type": "code",
   "execution_count": 0,
   "metadata": {
    "colab": {},
    "colab_type": "code",
    "id": "j7njRqx9wRVW",
    "outputId": "151be68d-0227-46c8-f3a4-6d997be28e1e"
   },
   "outputs": [
    {
     "name": "stdout",
     "output_type": "stream",
     "text": [
      "              precision    recall  f1-score   support\n",
      "\n",
      "           0       0.98      0.97      0.97       590\n",
      "           1       0.99      0.97      0.98       600\n",
      "           2       0.98      0.98      0.98       569\n",
      "           3       0.94      0.96      0.95       547\n",
      "\n",
      "   micro avg       0.97      0.97      0.97      2306\n",
      "   macro avg       0.97      0.97      0.97      2306\n",
      "weighted avg       0.97      0.97      0.97      2306\n",
      "\n",
      "Accuracy -  0.9700780572419775\n"
     ]
    }
   ],
   "source": [
    "print(classification_report(y_test, cnn_predicted))\n",
    "print('Accuracy - ', accuracy_score(y_test, cnn_predicted))"
   ]
  },
  {
   "cell_type": "markdown",
   "metadata": {
    "colab_type": "text",
    "id": "vb3x3T9EwRVa"
   },
   "source": [
    "### Матрица ошибок"
   ]
  },
  {
   "cell_type": "code",
   "execution_count": 0,
   "metadata": {
    "colab": {},
    "colab_type": "code",
    "id": "QjNg348rwRVb",
    "outputId": "410887a6-0e7f-44be-b722-47e6fa0edf55"
   },
   "outputs": [
    {
     "data": {
      "text/plain": [
       "<matplotlib.axes._subplots.AxesSubplot at 0x7ff32de4e518>"
      ]
     },
     "execution_count": 45,
     "metadata": {
      "tags": []
     },
     "output_type": "execute_result"
    },
    {
     "data": {
      "image/png": "[encoded data removed]",
      "text/plain": [
       "<Figure size 432x288 with 2 Axes>"
      ]
     },
     "metadata": {
      "needs_background": "light",
      "tags": []
     },
     "output_type": "display_data"
    }
   ],
   "source": [
    "conf_matrix = confusion_matrix(y_test, cnn_predicted)\n",
    "df_conf_matrix = pd.DataFrame(conf_matrix, index = [i for i in encoding.classes_], columns = [i for i in encoding.classes_])\n",
    "sn.heatmap(df_conf_matrix, annot=True)"
   ]
  },
  {
   "cell_type": "markdown",
   "metadata": {
    "colab_type": "text",
    "id": "KR7eWXSqwRVg"
   },
   "source": [
    "### Результат\n",
    "\n",
    "Данная модель показывает хорошее значение Accuracy при быстром обучении. Также, она показывает значительно меньшее количество ошибок и на пересечении некоторых классов ошибок вообще нет."
   ]
  },
  {
   "cell_type": "markdown",
   "metadata": {
    "colab_type": "text",
    "id": "Zp3RgMeLwRVh"
   },
   "source": [
    "## RNN\n",
    "\n",
    "Использую ```RNN``` для решения задачи текстовой классификации. "
   ]
  },
  {
   "cell_type": "code",
   "execution_count": 0,
   "metadata": {
    "colab": {},
    "colab_type": "code",
    "id": "mm3WnNy3wRVi"
   },
   "outputs": [],
   "source": [
    "model = Sequential()\n",
    "model.add(Embedding(vocab_size,\n",
    "                    embedding_dim,\n",
    "                    input_length=max_length))\n",
    "model.add(Bidirectional(LSTM(64, return_sequences=True, dropout=0.25, recurrent_dropout=0.1)))\n",
    "model.add(GlobalMaxPooling1D())\n",
    "model.add(Dense(32, activation='relu'))\n",
    "model.add(Dense(16, activation='relu'))\n",
    "model.add(Dense(8, activation='softmax'))  \n",
    "model.compile(loss='sparse_categorical_crossentropy', optimizer=adam, metrics=['accuracy'])"
   ]
  },
  {
   "cell_type": "code",
   "execution_count": 0,
   "metadata": {
    "colab": {},
    "colab_type": "code",
    "id": "Ln_4LtPrwRVr",
    "outputId": "8af4b868-b117-49b3-fe97-0c260c1bba58"
   },
   "outputs": [
    {
     "name": "stdout",
     "output_type": "stream",
     "text": [
      "Epoch 1/10\n",
      "9220/9220 [==============================] - 38s 4ms/step - loss: 0.0098 - acc: 0.9975\n",
      "Epoch 2/10\n",
      "9220/9220 [==============================] - 41s 4ms/step - loss: 0.0085 - acc: 0.9972\n",
      "Epoch 3/10\n",
      "9220/9220 [==============================] - 36s 4ms/step - loss: 0.0093 - acc: 0.9978\n",
      "Epoch 4/10\n",
      "9220/9220 [==============================] - 38s 4ms/step - loss: 0.0069 - acc: 0.9983\n",
      "Epoch 5/10\n",
      "9220/9220 [==============================] - 45s 5ms/step - loss: 0.0066 - acc: 0.9978\n",
      "Epoch 6/10\n",
      "9220/9220 [==============================] - 41s 4ms/step - loss: 0.0067 - acc: 0.9980\n",
      "Epoch 7/10\n",
      "9220/9220 [==============================] - 37s 4ms/step - loss: 0.0059 - acc: 0.9980\n",
      "Epoch 8/10\n",
      "9220/9220 [==============================] - 40s 4ms/step - loss: 0.0050 - acc: 0.9982\n",
      "Epoch 9/10\n",
      "9220/9220 [==============================] - 39s 4ms/step - loss: 0.0044 - acc: 0.9988\n",
      "Epoch 10/10\n",
      "9220/9220 [==============================] - 39s 4ms/step - loss: 0.0041 - acc: 0.9988\n"
     ]
    }
   ],
   "source": [
    "rnn_model = model.fit(x_train, y_train, batch_size=100, epochs=10)"
   ]
  },
  {
   "cell_type": "code",
   "execution_count": 0,
   "metadata": {
    "colab": {},
    "colab_type": "code",
    "id": "rmOWiFAYwRVz"
   },
   "outputs": [],
   "source": [
    "rnn_predicted = model.predict_classes(x_test)"
   ]
  },
  {
   "cell_type": "markdown",
   "metadata": {
    "colab_type": "text",
    "id": "Ym_1nVA2wRV3"
   },
   "source": [
    "### Результаты классификации"
   ]
  },
  {
   "cell_type": "code",
   "execution_count": 0,
   "metadata": {
    "colab": {},
    "colab_type": "code",
    "id": "LvzvRRIGwRV4",
    "outputId": "a9adc5c7-09c0-437b-9b7a-b6a4f3c44df2"
   },
   "outputs": [
    {
     "name": "stdout",
     "output_type": "stream",
     "text": [
      "              precision    recall  f1-score   support\n",
      "\n",
      "           0       0.96      0.95      0.96       590\n",
      "           1       0.97      0.96      0.97       600\n",
      "           2       0.97      0.99      0.98       569\n",
      "           3       0.95      0.95      0.95       547\n",
      "\n",
      "   micro avg       0.96      0.96      0.96      2306\n",
      "   macro avg       0.96      0.96      0.96      2306\n",
      "weighted avg       0.96      0.96      0.96      2306\n",
      "\n",
      "Accuracy -  0.9648742411101474\n"
     ]
    }
   ],
   "source": [
    "print(classification_report(y_test, rnn_predicted))\n",
    "print('Accuracy - ', accuracy_score(y_test, rnn_predicted))"
   ]
  },
  {
   "cell_type": "markdown",
   "metadata": {
    "colab_type": "text",
    "id": "kK4yS5TmwRV8"
   },
   "source": [
    "### Матрица ошибок"
   ]
  },
  {
   "cell_type": "code",
   "execution_count": 0,
   "metadata": {
    "colab": {},
    "colab_type": "code",
    "id": "LTMwKQgKwRV-",
    "outputId": "f94ab892-4b21-47c3-94db-9302e68d3bbd"
   },
   "outputs": [
    {
     "data": {
      "text/plain": [
       "<matplotlib.axes._subplots.AxesSubplot at 0x7ff2d547b630>"
      ]
     },
     "execution_count": 60,
     "metadata": {
      "tags": []
     },
     "output_type": "execute_result"
    },
    {
     "data": {
      "image/png": "[encoded data removed]",
      "text/plain": [
       "<Figure size 432x288 with 2 Axes>"
      ]
     },
     "metadata": {
      "needs_background": "light",
      "tags": []
     },
     "output_type": "display_data"
    }
   ],
   "source": [
    "conf_matrix = confusion_matrix(y_test, rnn_predicted)\n",
    "df_conf_matrix = pd.DataFrame(conf_matrix, index = [i for i in encoding.classes_], columns = [i for i in encoding.classes_])\n",
    "sn.heatmap(df_conf_matrix, annot=True)"
   ]
  },
  {
   "cell_type": "markdown",
   "metadata": {
    "colab_type": "text",
    "id": "-Adb4KBVwRWD"
   },
   "source": [
    "### Результат\n",
    "\n",
    "Данная модель тоже показывает неплохой результат, но чуть хуже, чем CNN. И данная модель чуть чаще совершает ошибки"
   ]
  },
  {
   "cell_type": "markdown",
   "metadata": {
    "colab_type": "text",
    "id": "NvNEaK6pwRWE"
   },
   "source": [
    "## ULMFit\n",
    "\n",
    "Использую ```ULMFit``` для решения задачи классификации. "
   ]
  },
  {
   "cell_type": "code",
   "execution_count": 0,
   "metadata": {
    "colab": {},
    "colab_type": "code",
    "id": "_o9EbG8LwRWF"
   },
   "outputs": [],
   "source": [
    "import fastai\n",
    "from fastai import *\n",
    "from fastai.text import * "
   ]
  },
  {
   "cell_type": "code",
   "execution_count": 0,
   "metadata": {
    "colab": {},
    "colab_type": "code",
    "id": "NFCQYcG0xio5"
   },
   "outputs": [],
   "source": [
    "ulm_train, ulm_validation = train_test_split(df, stratify = df['source'], test_size = 0.2, random_state = 12)"
   ]
  },
  {
   "cell_type": "code",
   "execution_count": 0,
   "metadata": {
    "colab": {},
    "colab_type": "code",
    "id": "5IJd-1CrxCep"
   },
   "outputs": [],
   "source": [
    "data_ulm = TextLMDataBunch.from_df(train_df=ulm_train, valid_df=ulm_validation, path='')"
   ]
  },
  {
   "cell_type": "code",
   "execution_count": 20,
   "metadata": {
    "colab": {
     "base_uri": "https://localhost:8080/",
     "height": 108
    },
    "colab_type": "code",
    "id": "wS2qQPV1xb5q",
    "outputId": "e5f8176e-ed09-4392-f13b-f59b8c003c1a"
   },
   "outputs": [
    {
     "name": "stderr",
     "output_type": "stream",
     "text": [
      "/usr/local/lib/python3.6/dist-packages/fastai/data_block.py:525: UserWarning: You are labelling your items with CategoryList.\n",
      "Your valid set contained the following unknown labels, the corresponding items have been discarded.\n",
      "Столичные полицейские выявили мошенничество с недвижимостью умерших граждан Сотрудники ОУР УВД по СВАО ГУ МВД России по г. Москве во взаимодействии с представителями Правительства Москвы выявили мошенничество с недвижимостью умерших граждан.  Полицейские установили, что трое злоумышленников по поддельным документам завладели правом на квартиру, расположенную на Алтуфьевском шоссе. Жилплощадь принадлежала умершей семейной паре, не имевшей наследников, и подлежала обращению в доход государства.  Подозреваемые реализовали недвижимость, совершив легализацию денежных средств на сумму более 6 млн рублей, причинив тем самым материальный ущерб Департаменту городского имущества г. Москвы.  В ходе оперативно-разыскных мероприятий стражи порядка задержали организатора группы - 43-летнего уроженца Закавказья, ранее судимого за мошенничество. Также задержаны двое его подельников - 40-летний уроженец Московской области, ранее судимый за разбой, и 38-летний москвич, судимый за мошенничество.  По данному факту возбуждено уголовное дело по признакам состава преступления, предусмотренного ч. 4 ст.159 УК РФ «Мошенничество», ч. 4 ст. 174.1 УК РФ «Легализация (отмывание) денежных средств или иного имущества, приобретенных лицом в результате совершения им преступления». Организатор группы задержан в порядке ст. 91 УПК РФ, соучастникам избрана мера пресечения в виде подписки о невыезде.#МВД #Петровка38 #полиция #новости #свао #мошенничество #недвижимость, Желаем вам хороших и законопослушных выходных!  Фото: Газета \"Петровка,38\"  #МВД #Петровка38 #полиция #полицейский #выходные, Депутаты Мосгордумы приняли отчет начальника ГУ МВД России по г. Москве О.А. Баранова за 2017 годВ Московской городской Думе состоялся отчет начальника Главного управления МВД России по г. Москве генерал-лейтенанта полиции Олега Баранова о работе органов внутренних дел за 2017 год.  Олег Баранов рассказал об итогах работы органов внутренних дел г. Москвы в 2017 году, а также отметил готовность столичной полиции к реализации задач на предстоящий период.  В 2017 году Главным управлением МВД России по г. Москве реализован комплекс мер, направленных на повышение качества расследования преступлений. Несмотря на имеющиеся сложности в работе, в условиях криминогенных рисков, сопряженных с нелегальной миграцией и наркопреступностью, принимаемые меры по укреплению правопорядка позволили сотрудникам полиции обеспечить контроль над оперативной обстановкой в столице. В связи с чем почти на 20% сократилось общее число зарегистрированных преступлений, на 26% сократилось количество ранее не раскрытых преступлений, на 1/3 снизилось количество преступлений, совершенных в общественных местах города, обеспечено восстановление прав более 26 тысяч потерпевших.  Начальник главка отметил, что профилактическая работа в 2017 году позволила укрепить положительные тенденции к снижению наиболее опасных преступлений: убийств, умышленных причинений тяжкого вреда здоровью, изнасилований, разбойных нападений, грабежей, квартирных краж, угонов автомобилей. В 2017 году уровень аварийности на дорогах столицы стал самым низким за последние 10 лет.  В минувшем году Главным управлением столичной полиции рассмотрено более 476 тысяч материалов о выдаче патентов иностранным гражданам на осуществление трудовой деятельности. Наряду с этим пресечено свыше 77 тысяч нарушений режима пребывания иностранных граждан в Российской Федерации, и в результате принятых мер количество преступлений, совершенных ими, сократилось на 14%.  В 2017 году в рамках противодействия наркоприступности пресечено 13 фактов контрабанды наркотических средств, перекрыт 71 канал поставки оптовых партий, количество веществ, изъятых из незаконного оборота, возросло на 43% и составило свыше 1 тонны 320 килограммов.  Существенно сократилось число преступлений, совершенных с применением оружия. В 2017 году изъято 10,5 тысяч единиц боеприпасов различного калибра, 124 единицы нарезного и 95 единиц гладкоствольного оружия. Пресечена деятельность 1460 лидеров и участников организованных групп и преступных сообществ.  В ходе противодействия преступлениям в сфере экономики в 2017 году выявлено порядка 10,5 тысяч фактов преступной деятельности, половина из которых – мошенничества. Вместе с тем количество преступлений, объектами преступных посягательств по которым являются квартиры, уменьшилось почти на 20%. В сфере жилищно-коммунального хозяйства и строительства в результате расследования преступлений экономической направленности обеспечено возмещение ущерба в размере свыше 22 миллиардов рублей.  «Представленный подробный анализ работы полиции за 2017 год позволяет сделать вывод, что Главное управление МВД России по г. Москве на высоком уровне обеспечивает общественный порядок и сохраняет контроль над криминогенной ситуацией в столице», – подчеркнул Председатель Московской городской Думы Алексей Шапошников.  По результатам обсуждения депутаты Мосгордумы единогласно проголосовали за принятие отчета начальника Главного управления МВД России по г. Москве Олега Баранова о работе столичной полиции в 2017 году.  «Служебный долг, работа в полиции – это не просто слова. Своей жизнью ради безопасности граждан сотрудники полиции рискуют постоянно, независимо от дня недели или времени суток. Мы знаем немало примеров отваги и мужества, проявленных сотрудниками полиции московского гарнизона», – отметил начальник ГУ МВД России по г. Москве Олег Баранов и наряду с этим выразил уверенность в готовности сотрудников полиции к выполнению всех поставленных задач на 2018 год.#police #mvdrussia #МВД #мвдроссии #полиция #полицияроссии #мвд77 #петровка38 #новости, #ПамяткаМЧССистема безопасности пассажирского лифта., Розыск пропавшей без вести Куркиной Аэлиты ЗаурбековныУВД по ЗАО ГУ МВД России по г. Москве разыскивает пропавшую без вести Куркину Аэлиту Заурбековну, 22.11.2002 года рождения, жительницу г. Москвы, местонахождение которой неизвестно с 15 ноября 2017 года.  Приметы: европейский тип лица, на вид 17-19 лет, рост 165 см, средней полноты, волосы прямые темные, средней длины, глаза светлые.  Особые приметы: голос глухой, говорит медленно и невнятно.  Была одета: синяя куртка-парка, серые джинсы, черная кофта, черные кожаные сапоги, темно-зеленая шерстяная шапка.  Полиция просит всех, кому что-либо известно о местонахождении разыскиваемой, сообщить по телефонам: 8 (499) 233-91-00, 8 (495) 436-83-20 или «102».#police #mvdrussia #МВД #мвдроссии #полиция #полицияроссии #мвд77 #петровка38 #розыск #внимание...\n",
      "  if getattr(ds, 'warn', False): warn(ds.warn)\n"
     ]
    }
   ],
   "source": [
    "data_class = TextClasDataBunch.from_df(path = '', train_df = ulm_train, valid_df = ulm_validation, vocab=data_ulm.train_ds.vocab, bs=32)"
   ]
  },
  {
   "cell_type": "code",
   "execution_count": 21,
   "metadata": {
    "colab": {
     "base_uri": "https://localhost:8080/",
     "height": 362
    },
    "colab_type": "code",
    "id": "cZZk0oRJyECa",
    "outputId": "6127e609-bc56-4a98-e242-821de49c68ff"
   },
   "outputs": [
    {
     "data": {
      "text/html": [
       "<table border=\"1\" class=\"dataframe\">\n",
       "  <thead>\n",
       "    <tr style=\"text-align: right;\">\n",
       "      <th>text</th>\n",
       "      <th>target</th>\n",
       "    </tr>\n",
       "  </thead>\n",
       "  <tbody>\n",
       "    <tr>\n",
       "      <td>xxbos 1</td>\n",
       "      <td>Образец перспективного основного боевого танка Т-14, создаваемый в рамках ОКР «Армата», в ходе войсковых испытаний в 1-й ударной гвардейской танковой армии#Минобороны #Танки #СухопутныеВойска #Армата</td>\n",
       "    </tr>\n",
       "    <tr>\n",
       "      <td>xxbos 0</td>\n",
       "      <td>#МЧС #МЧСРОССИИ Глава МЧС России Владимир Пучков наградил победителей XIV Всероссийских соревнований «Школа безопасности».</td>\n",
       "    </tr>\n",
       "    <tr>\n",
       "      <td>xxbos 0</td>\n",
       "      <td>#МЧС #МЧСРОССИИ В Ставропольском крае в рамках Года культуры безопасности прошел первый в России детский флешмоб «МЧС России за безопасное поколение».</td>\n",
       "    </tr>\n",
       "    <tr>\n",
       "      <td>xxbos 2</td>\n",
       "      <td>Во время праздничных мероприятий и народных гуляний, посвященных встрече Нового, 2017 года и празднованию Рождества Христова, сотрудниками ГУ МВД России по г. Москве принимаются необходимые меры для обеспечения безопасности жителей и гостей города. ТЕЛЕФОНЫ ЭКСТРЕННОЙ ПОМОЩИ  102 – ДЕЖУРНАЯ ЧАСТЬ ГУ МВД РОССИИ ПО Г. МОСКВЕ  112 – ЕДИНЫЙ ТЕЛЕФОННЫЙ НОМЕР ВЫЗОВА ЭКСТРЕННЫХ СЛУЖБ СО ВСЕХ СОТОВЫХ ТЕЛЕФОНОВ#МВД #Петровка38 #полиция #новыйгод #безопасность #москва</td>\n",
       "    </tr>\n",
       "    <tr>\n",
       "      <td>xxbos 3</td>\n",
       "      <td>Современная итальянская почта появилась сразу после объединения Италии в 1862 году. У местного почтового сообщения невероятно глубокие исторические традиции, ведь связь существовала здесь еще в античные времена, когда римский император Август создал cursus publicus – публичную систему государственной почты. Итальянцы всегда писали много писем. Статистическая служба Российской империи в 1894 году подсчитала, что в Италии насчитывается 6183 почтовых учреждения, а в год итальянцы отсылают 538 628 000 отправлений, что приносит почте прибыль в размере 35 819 рублей по курсу. Poste italiane прибыльна и сейчас. Организация была частично приватизирована, 35% её акций находится в публичном обращении. В Италии 142 тысячи почтовых работников, а в отделениях связи помимо традиционных услуг можно воспользоваться финансовыми инструментами. #ПочтыМира #Италия</td>\n",
       "    </tr>\n",
       "  </tbody>\n",
       "</table>"
      ],
      "text/plain": [
       "<IPython.core.display.HTML object>"
      ]
     },
     "metadata": {
      "tags": []
     },
     "output_type": "display_data"
    }
   ],
   "source": [
    "data_class.show_batch()"
   ]
  },
  {
   "cell_type": "code",
   "execution_count": 0,
   "metadata": {
    "colab": {},
    "colab_type": "code",
    "id": "19Nav2VkyGRl"
   },
   "outputs": [],
   "source": [
    "ulm_model = language_model_learner(data_ulm, AWD_LSTM, drop_mult=0.5)"
   ]
  },
  {
   "cell_type": "code",
   "execution_count": 47,
   "metadata": {
    "colab": {
     "base_uri": "https://localhost:8080/",
     "height": 2531
    },
    "colab_type": "code",
    "id": "8Ekr1U08yRa-",
    "outputId": "9ae20860-8d63-4b8e-9f72-77505e3f7f98"
   },
   "outputs": [
    {
     "data": {
      "text/plain": [
       "<bound method Learner.load of LanguageLearner(data=TextLMDataBunch;\n",
       "\n",
       "Train: LabelList (9220 items)\n",
       "x: LMTextList\n",
       "xxbos 2,xxbos 1,xxbos 0,xxbos 2,xxbos 3\n",
       "y: LMLabelList\n",
       ",,,,\n",
       "Path: .;\n",
       "\n",
       "Valid: LabelList (2306 items)\n",
       "x: LMTextList\n",
       "xxbos 3,xxbos 2,xxbos 1,xxbos 0,xxbos 3\n",
       "y: LMLabelList\n",
       ",,,,\n",
       "Path: .;\n",
       "\n",
       "Test: None, model=SequentialRNN(\n",
       "  (0): AWD_LSTM(\n",
       "    (encoder): Embedding(13, 400, padding_idx=1)\n",
       "    (encoder_dp): EmbeddingDropout(\n",
       "      (emb): Embedding(13, 400, padding_idx=1)\n",
       "    )\n",
       "    (rnns): ModuleList(\n",
       "      (0): WeightDropout(\n",
       "        (module): LSTM(400, 1150, batch_first=True)\n",
       "      )\n",
       "      (1): WeightDropout(\n",
       "        (module): LSTM(1150, 1150, batch_first=True)\n",
       "      )\n",
       "      (2): WeightDropout(\n",
       "        (module): LSTM(1150, 400, batch_first=True)\n",
       "      )\n",
       "    )\n",
       "    (input_dp): RNNDropout()\n",
       "    (hidden_dps): ModuleList(\n",
       "      (0): RNNDropout()\n",
       "      (1): RNNDropout()\n",
       "      (2): RNNDropout()\n",
       "    )\n",
       "  )\n",
       "  (1): LinearDecoder(\n",
       "    (decoder): Linear(in_features=400, out_features=13, bias=True)\n",
       "    (output_dp): RNNDropout()\n",
       "  )\n",
       "), opt_func=functools.partial(<class 'torch.optim.adam.Adam'>, betas=(0.9, 0.99)), loss_func=FlattenedLoss of CrossEntropyLoss(), metrics=[<function accuracy at 0x7f3ed6c8ac80>], true_wd=True, bn_wd=True, wd=0.01, train_bn=True, path=PosixPath('.'), model_dir='models', callback_fns=[functools.partial(<class 'fastai.basic_train.Recorder'>, add_time=True, silent=False)], callbacks=[RNNTrainer\n",
       "learn: LanguageLearner(data=TextLMDataBunch;\n",
       "\n",
       "Train: LabelList (9220 items)\n",
       "x: LMTextList\n",
       "xxbos 2,xxbos 1,xxbos 0,xxbos 2,xxbos 3\n",
       "y: LMLabelList\n",
       ",,,,\n",
       "Path: .;\n",
       "\n",
       "Valid: LabelList (2306 items)\n",
       "x: LMTextList\n",
       "xxbos 3,xxbos 2,xxbos 1,xxbos 0,xxbos 3\n",
       "y: LMLabelList\n",
       ",,,,\n",
       "Path: .;\n",
       "\n",
       "Test: None, model=SequentialRNN(\n",
       "  (0): AWD_LSTM(\n",
       "    (encoder): Embedding(13, 400, padding_idx=1)\n",
       "    (encoder_dp): EmbeddingDropout(\n",
       "      (emb): Embedding(13, 400, padding_idx=1)\n",
       "    )\n",
       "    (rnns): ModuleList(\n",
       "      (0): WeightDropout(\n",
       "        (module): LSTM(400, 1150, batch_first=True)\n",
       "      )\n",
       "      (1): WeightDropout(\n",
       "        (module): LSTM(1150, 1150, batch_first=True)\n",
       "      )\n",
       "      (2): WeightDropout(\n",
       "        (module): LSTM(1150, 400, batch_first=True)\n",
       "      )\n",
       "    )\n",
       "    (input_dp): RNNDropout()\n",
       "    (hidden_dps): ModuleList(\n",
       "      (0): RNNDropout()\n",
       "      (1): RNNDropout()\n",
       "      (2): RNNDropout()\n",
       "    )\n",
       "  )\n",
       "  (1): LinearDecoder(\n",
       "    (decoder): Linear(in_features=400, out_features=13, bias=True)\n",
       "    (output_dp): RNNDropout()\n",
       "  )\n",
       "), opt_func=functools.partial(<class 'torch.optim.adam.Adam'>, betas=(0.9, 0.99)), loss_func=FlattenedLoss of CrossEntropyLoss(), metrics=[<function accuracy at 0x7f3ed6c8ac80>], true_wd=True, bn_wd=True, wd=0.01, train_bn=True, path=PosixPath('.'), model_dir='models', callback_fns=[functools.partial(<class 'fastai.basic_train.Recorder'>, add_time=True, silent=False)], callbacks=[...], layer_groups=[Sequential(\n",
       "  (0): WeightDropout(\n",
       "    (module): LSTM(400, 1150, batch_first=True)\n",
       "  )\n",
       "  (1): RNNDropout()\n",
       "), Sequential(\n",
       "  (0): WeightDropout(\n",
       "    (module): LSTM(1150, 1150, batch_first=True)\n",
       "  )\n",
       "  (1): RNNDropout()\n",
       "), Sequential(\n",
       "  (0): WeightDropout(\n",
       "    (module): LSTM(1150, 400, batch_first=True)\n",
       "  )\n",
       "  (1): RNNDropout()\n",
       "), Sequential(\n",
       "  (0): Embedding(13, 400, padding_idx=1)\n",
       "  (1): EmbeddingDropout(\n",
       "    (emb): Embedding(13, 400, padding_idx=1)\n",
       "  )\n",
       "  (2): LinearDecoder(\n",
       "    (decoder): Linear(in_features=400, out_features=13, bias=True)\n",
       "    (output_dp): RNNDropout()\n",
       "  )\n",
       ")], add_time=True, silent=False)\n",
       "alpha: 2.0\n",
       "beta: 1.0], layer_groups=[Sequential(\n",
       "  (0): WeightDropout(\n",
       "    (module): LSTM(400, 1150, batch_first=True)\n",
       "  )\n",
       "  (1): RNNDropout()\n",
       "), Sequential(\n",
       "  (0): WeightDropout(\n",
       "    (module): LSTM(1150, 1150, batch_first=True)\n",
       "  )\n",
       "  (1): RNNDropout()\n",
       "), Sequential(\n",
       "  (0): WeightDropout(\n",
       "    (module): LSTM(1150, 400, batch_first=True)\n",
       "  )\n",
       "  (1): RNNDropout()\n",
       "), Sequential(\n",
       "  (0): Embedding(13, 400, padding_idx=1)\n",
       "  (1): EmbeddingDropout(\n",
       "    (emb): Embedding(13, 400, padding_idx=1)\n",
       "  )\n",
       "  (2): LinearDecoder(\n",
       "    (decoder): Linear(in_features=400, out_features=13, bias=True)\n",
       "    (output_dp): RNNDropout()\n",
       "  )\n",
       ")], add_time=True, silent=False)>"
      ]
     },
     "execution_count": 47,
     "metadata": {
      "tags": []
     },
     "output_type": "execute_result"
    }
   ],
   "source": [
    "ulm_model.load"
   ]
  },
  {
   "cell_type": "code",
   "execution_count": 48,
   "metadata": {
    "colab": {
     "base_uri": "https://localhost:8080/",
     "height": 143
    },
    "colab_type": "code",
    "id": "7PVCGyAYyW46",
    "outputId": "00dab8c0-34db-48f7-e8a9-db97eff3589f"
   },
   "outputs": [
    {
     "data": {
      "text/html": [
       "<table border=\"1\" class=\"dataframe\">\n",
       "  <thead>\n",
       "    <tr style=\"text-align: left;\">\n",
       "      <th>epoch</th>\n",
       "      <th>train_loss</th>\n",
       "      <th>valid_loss</th>\n",
       "      <th>accuracy</th>\n",
       "      <th>time</th>\n",
       "    </tr>\n",
       "  </thead>\n",
       "  <tbody>\n",
       "    <tr>\n",
       "      <td>0</td>\n",
       "      <td>6.478124</td>\n",
       "      <td>4.038656</td>\n",
       "      <td>0.335714</td>\n",
       "      <td>00:58</td>\n",
       "    </tr>\n",
       "    <tr>\n",
       "      <td>1</td>\n",
       "      <td>5.825280</td>\n",
       "      <td>3.064866</td>\n",
       "      <td>0.492299</td>\n",
       "      <td>00:58</td>\n",
       "    </tr>\n",
       "    <tr>\n",
       "      <td>2</td>\n",
       "      <td>5.316556</td>\n",
       "      <td>2.746844</td>\n",
       "      <td>0.493750</td>\n",
       "      <td>00:57</td>\n",
       "    </tr>\n",
       "  </tbody>\n",
       "</table>"
      ],
      "text/plain": [
       "<IPython.core.display.HTML object>"
      ]
     },
     "metadata": {
      "tags": []
     },
     "output_type": "display_data"
    }
   ],
   "source": [
    "ulm_model.fit_one_cycle(3, 1e-2)"
   ]
  },
  {
   "cell_type": "code",
   "execution_count": 49,
   "metadata": {
    "colab": {
     "base_uri": "https://localhost:8080/",
     "height": 35
    },
    "colab_type": "code",
    "id": "rl-0-t0Z1DoT",
    "outputId": "71236b28-f719-4731-9b90-a40063cccff7"
   },
   "outputs": [
    {
     "data": {
      "text/html": [],
      "text/plain": [
       "<IPython.core.display.HTML object>"
      ]
     },
     "metadata": {
      "tags": []
     },
     "output_type": "display_data"
    },
    {
     "name": "stdout",
     "output_type": "stream",
     "text": [
      "LR Finder is complete, type {learner_name}.recorder.plot() to see the graph.\n"
     ]
    }
   ],
   "source": [
    "ulm_model.lr_find()"
   ]
  },
  {
   "cell_type": "code",
   "execution_count": 50,
   "metadata": {
    "colab": {
     "base_uri": "https://localhost:8080/",
     "height": 301
    },
    "colab_type": "code",
    "id": "C9n7PGym1G0u",
    "outputId": "d5acfadc-8c2f-42e8-a78b-89e2cfd9454e"
   },
   "outputs": [
    {
     "name": "stdout",
     "output_type": "stream",
     "text": [
      "Min numerical gradient: 1.00E-01\n"
     ]
    },
    {
     "data": {
      "image/png": "[encoded data removed]",
      "text/plain": [
       "<Figure size 432x288 with 1 Axes>"
      ]
     },
     "metadata": {
      "tags": []
     },
     "output_type": "display_data"
    }
   ],
   "source": [
    "ulm_model.recorder.plot(suggestion=True)"
   ]
  },
  {
   "cell_type": "code",
   "execution_count": 0,
   "metadata": {
    "colab": {},
    "colab_type": "code",
    "id": "tlSxPIEc1Meb"
   },
   "outputs": [],
   "source": [
    "preds, targets = ulm_model.get_preds()"
   ]
  },
  {
   "cell_type": "code",
   "execution_count": 0,
   "metadata": {
    "colab": {},
    "colab_type": "code",
    "id": "PnGFK6Cw5MMB"
   },
   "outputs": [],
   "source": [
    "predictions = np.argmax(preds, axis = 1)"
   ]
  },
  {
   "cell_type": "code",
   "execution_count": 53,
   "metadata": {
    "colab": {
     "base_uri": "https://localhost:8080/",
     "height": 35
    },
    "colab_type": "code",
    "id": "r_SMesiI5efD",
    "outputId": "ec5193cd-cfd0-4510-c393-81b6546ef3f8"
   },
   "outputs": [
    {
     "data": {
      "text/plain": [
       "'Военнослужащие–женщины на  2'"
      ]
     },
     "execution_count": 53,
     "metadata": {
      "tags": []
     },
     "output_type": "execute_result"
    }
   ],
   "source": [
    "ulm_model.predict('Военнослужащие–женщины на ')"
   ]
  },
  {
   "cell_type": "markdown",
   "metadata": {},
   "source": [
    "### Выводы\n",
    "\n",
    "Для того, чтобы сравнить методы, построю столбчатую диаграмму"
   ]
  },
  {
   "cell_type": "code",
   "execution_count": 62,
   "metadata": {},
   "outputs": [],
   "source": [
    "import matplotlib.pyplot as plt\n",
    "%matplotlib inline"
   ]
  },
  {
   "cell_type": "code",
   "execution_count": 71,
   "metadata": {},
   "outputs": [],
   "source": [
    "methods = list()\n",
    "accuracy = list ()\n",
    "\n",
    "methods.append('Классификация по правилам')\n",
    "methods.append('Baseline')\n",
    "methods.append('Снижение размерности')\n",
    "methods.append('Лемматизация')\n",
    "methods.append('Continious bag of words')\n",
    "methods.append('fastText')\n",
    "methods.append('CNN')\n",
    "methods.append('RNN')\n",
    "methods.append('ULMFit')\n",
    "\n",
    "accuracy.append(0.8317432784041631)#\n",
    "accuracy.append(0.9679098005203816)\n",
    "accuracy.append(0.9622723330442324)\n",
    "accuracy.append(0.9731136166522116)\n",
    "accuracy.append(0.8330442324371206)#\n",
    "accuracy.append(0.95836947094536)\n",
    "accuracy.append(0.9700780572419775)\n",
    "accuracy.append(0.9648742411101474)\n",
    "accuracy.append(0.493750)"
   ]
  },
  {
   "cell_type": "code",
   "execution_count": 73,
   "metadata": {},
   "outputs": [
    {
     "data": {
      "text/plain": [
       "Text(0.5, 1.0, 'Столбчатая диаграмма значений accuracy для используемых методов')"
      ]
     },
     "execution_count": 73,
     "metadata": {},
     "output_type": "execute_result"
    },
    {
     "data": {
      "image/png": "[encoded data removed]",
      "text/plain": [
       "<Figure size 432x288 with 1 Axes>"
      ]
     },
     "metadata": {
      "needs_background": "light"
     },
     "output_type": "display_data"
    }
   ],
   "source": [
    "plt.barh(methods, accuracy)\n",
    "plt.title('Столбчатая диаграмма значений accuracy для используемых методов')"
   ]
  },
  {
   "cell_type": "markdown",
   "metadata": {},
   "source": [
    "### Выводы\n",
    "\n",
    "По приведенной выше диаграмме сравнения accuracy для всех методов видно, что лучше всего с данной задачей справилась лемматизация с pipeline, в котором была использована логистическая регрессия. От лемматизации чуть отстает CNN. Также хорошо справились с задачей Baseline и Baseline со снижением размерности, RNN и FastText. Значительно отстают методы классификации по правилам и word2vec. Хуже всех с задачей справился метод ULMFit. "
   ]
  }
 ],
 "metadata": {
  "colab": {
   "collapsed_sections": [],
   "name": "HW_HSE_YudinaTA_IAD1.ipynb",
   "provenance": [],
   "version": "0.3.2"
  },
  "kernelspec": {
   "display_name": "Python 3",
   "language": "python",
   "name": "python3"
  },
  "language_info": {
   "codemirror_mode": {
    "name": "ipython",
    "version": 3
   },
   "file_extension": ".py",
   "mimetype": "text/x-python",
   "name": "python",
   "nbconvert_exporter": "python",
   "pygments_lexer": "ipython3",
   "version": "3.7.3"
  }
 },
 "nbformat": 4,
 "nbformat_minor": 1
}
